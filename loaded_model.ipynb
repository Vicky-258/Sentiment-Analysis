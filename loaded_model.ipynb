{
 "cells": [
  {
   "cell_type": "code",
   "id": "initial_id",
   "metadata": {
    "collapsed": true,
    "ExecuteTime": {
     "end_time": "2024-07-23T09:41:37.432446Z",
     "start_time": "2024-07-23T09:41:37.383199Z"
    }
   },
   "source": [
    "import joblib\n",
    "from sklearn.metrics import accuracy_score, classification_report, confusion_matrix\n",
    "\n",
    "# Load the model and vectorizer\n",
    "loaded_model = joblib.load('sentiment_analysis_model.pkl')\n",
    "loaded_vectorizer = joblib.load('vectorizer.pkl')\n",
    "print(\"Model and vectorizer loaded successfully.\")\n",
    "\n",
    "# Example text data for prediction\n",
    "new_data = [\"I love this!\", \"I hate this!\", \"It's okay.\"]\n",
    "\n",
    "# Transform the new data using the loaded vectorizer\n",
    "new_data_transformed = loaded_vectorizer.transform(new_data)\n",
    "\n",
    "# Make predictions with the loaded model\n",
    "predictions = loaded_model.predict(new_data_transformed)\n",
    "\n",
    "# Output the predictions\n",
    "print(predictions)\n"
   ],
   "outputs": [
    {
     "name": "stdout",
     "output_type": "stream",
     "text": [
      "Model and vectorizer loaded successfully.\n",
      "['positive' 'negative' 'negative']\n"
     ]
    }
   ],
   "execution_count": 10
  },
  {
   "metadata": {},
   "cell_type": "code",
   "outputs": [],
   "execution_count": null,
   "source": "",
   "id": "9e68f2a1e8e6c046"
  }
 ],
 "metadata": {
  "kernelspec": {
   "display_name": "Python 3",
   "language": "python",
   "name": "python3"
  },
  "language_info": {
   "codemirror_mode": {
    "name": "ipython",
    "version": 2
   },
   "file_extension": ".py",
   "mimetype": "text/x-python",
   "name": "python",
   "nbconvert_exporter": "python",
   "pygments_lexer": "ipython2",
   "version": "2.7.6"
  }
 },
 "nbformat": 4,
 "nbformat_minor": 5
}
