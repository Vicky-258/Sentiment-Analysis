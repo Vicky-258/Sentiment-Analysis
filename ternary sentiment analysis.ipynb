{
 "cells": [
  {
   "metadata": {},
   "cell_type": "markdown",
   "source": [
    "Getting Started\n",
    "\n",
    "loading and reviewing the dataset"
   ],
   "id": "50542c7e48cf8c51"
  },
  {
   "metadata": {
    "ExecuteTime": {
     "end_time": "2024-07-23T04:16:40.375805Z",
     "start_time": "2024-07-23T04:16:40.295252Z"
    }
   },
   "cell_type": "code",
   "source": [
    "import pandas as pd\n",
    "\n",
    "# Loading the dataset\n",
    "df = pd.read_csv('Tweets.csv')\n",
    "\n",
    "# Displaying the first fwe rows\n",
    "df.head()"
   ],
   "id": "471b70b990b6ef05",
   "outputs": [
    {
     "data": {
      "text/plain": [
       "             tweet_id sentiment  airline_sentiment_confidence negativereason  \\\n",
       "0  570306133677760513   neutral                        1.0000            NaN   \n",
       "1  570301130888122368  positive                        0.3486            NaN   \n",
       "2  570301083672813571   neutral                        0.6837            NaN   \n",
       "3  570301031407624196  negative                        1.0000     Bad Flight   \n",
       "4  570300817074462722  negative                        1.0000     Can't Tell   \n",
       "\n",
       "   negativereason_confidence         airline airline_sentiment_gold  \\\n",
       "0                        NaN  Virgin America                    NaN   \n",
       "1                     0.0000  Virgin America                    NaN   \n",
       "2                        NaN  Virgin America                    NaN   \n",
       "3                     0.7033  Virgin America                    NaN   \n",
       "4                     1.0000  Virgin America                    NaN   \n",
       "\n",
       "         name negativereason_gold  retweet_count  \\\n",
       "0     cairdin                 NaN              0   \n",
       "1    jnardino                 NaN              0   \n",
       "2  yvonnalynn                 NaN              0   \n",
       "3    jnardino                 NaN              0   \n",
       "4    jnardino                 NaN              0   \n",
       "\n",
       "                                                text tweet_coord  \\\n",
       "0                @VirginAmerica What @dhepburn said.         NaN   \n",
       "1  @VirginAmerica plus you've added commercials t...         NaN   \n",
       "2  @VirginAmerica I didn't today... Must mean I n...         NaN   \n",
       "3  @VirginAmerica it's really aggressive to blast...         NaN   \n",
       "4  @VirginAmerica and it's a really big bad thing...         NaN   \n",
       "\n",
       "               tweet_created tweet_location               user_timezone  \n",
       "0  2015-02-24 11:35:52 -0800            NaN  Eastern Time (US & Canada)  \n",
       "1  2015-02-24 11:15:59 -0800            NaN  Pacific Time (US & Canada)  \n",
       "2  2015-02-24 11:15:48 -0800      Lets Play  Central Time (US & Canada)  \n",
       "3  2015-02-24 11:15:36 -0800            NaN  Pacific Time (US & Canada)  \n",
       "4  2015-02-24 11:14:45 -0800            NaN  Pacific Time (US & Canada)  "
      ],
      "text/html": [
       "<div>\n",
       "<style scoped>\n",
       "    .dataframe tbody tr th:only-of-type {\n",
       "        vertical-align: middle;\n",
       "    }\n",
       "\n",
       "    .dataframe tbody tr th {\n",
       "        vertical-align: top;\n",
       "    }\n",
       "\n",
       "    .dataframe thead th {\n",
       "        text-align: right;\n",
       "    }\n",
       "</style>\n",
       "<table border=\"1\" class=\"dataframe\">\n",
       "  <thead>\n",
       "    <tr style=\"text-align: right;\">\n",
       "      <th></th>\n",
       "      <th>tweet_id</th>\n",
       "      <th>sentiment</th>\n",
       "      <th>airline_sentiment_confidence</th>\n",
       "      <th>negativereason</th>\n",
       "      <th>negativereason_confidence</th>\n",
       "      <th>airline</th>\n",
       "      <th>airline_sentiment_gold</th>\n",
       "      <th>name</th>\n",
       "      <th>negativereason_gold</th>\n",
       "      <th>retweet_count</th>\n",
       "      <th>text</th>\n",
       "      <th>tweet_coord</th>\n",
       "      <th>tweet_created</th>\n",
       "      <th>tweet_location</th>\n",
       "      <th>user_timezone</th>\n",
       "    </tr>\n",
       "  </thead>\n",
       "  <tbody>\n",
       "    <tr>\n",
       "      <th>0</th>\n",
       "      <td>570306133677760513</td>\n",
       "      <td>neutral</td>\n",
       "      <td>1.0000</td>\n",
       "      <td>NaN</td>\n",
       "      <td>NaN</td>\n",
       "      <td>Virgin America</td>\n",
       "      <td>NaN</td>\n",
       "      <td>cairdin</td>\n",
       "      <td>NaN</td>\n",
       "      <td>0</td>\n",
       "      <td>@VirginAmerica What @dhepburn said.</td>\n",
       "      <td>NaN</td>\n",
       "      <td>2015-02-24 11:35:52 -0800</td>\n",
       "      <td>NaN</td>\n",
       "      <td>Eastern Time (US &amp; Canada)</td>\n",
       "    </tr>\n",
       "    <tr>\n",
       "      <th>1</th>\n",
       "      <td>570301130888122368</td>\n",
       "      <td>positive</td>\n",
       "      <td>0.3486</td>\n",
       "      <td>NaN</td>\n",
       "      <td>0.0000</td>\n",
       "      <td>Virgin America</td>\n",
       "      <td>NaN</td>\n",
       "      <td>jnardino</td>\n",
       "      <td>NaN</td>\n",
       "      <td>0</td>\n",
       "      <td>@VirginAmerica plus you've added commercials t...</td>\n",
       "      <td>NaN</td>\n",
       "      <td>2015-02-24 11:15:59 -0800</td>\n",
       "      <td>NaN</td>\n",
       "      <td>Pacific Time (US &amp; Canada)</td>\n",
       "    </tr>\n",
       "    <tr>\n",
       "      <th>2</th>\n",
       "      <td>570301083672813571</td>\n",
       "      <td>neutral</td>\n",
       "      <td>0.6837</td>\n",
       "      <td>NaN</td>\n",
       "      <td>NaN</td>\n",
       "      <td>Virgin America</td>\n",
       "      <td>NaN</td>\n",
       "      <td>yvonnalynn</td>\n",
       "      <td>NaN</td>\n",
       "      <td>0</td>\n",
       "      <td>@VirginAmerica I didn't today... Must mean I n...</td>\n",
       "      <td>NaN</td>\n",
       "      <td>2015-02-24 11:15:48 -0800</td>\n",
       "      <td>Lets Play</td>\n",
       "      <td>Central Time (US &amp; Canada)</td>\n",
       "    </tr>\n",
       "    <tr>\n",
       "      <th>3</th>\n",
       "      <td>570301031407624196</td>\n",
       "      <td>negative</td>\n",
       "      <td>1.0000</td>\n",
       "      <td>Bad Flight</td>\n",
       "      <td>0.7033</td>\n",
       "      <td>Virgin America</td>\n",
       "      <td>NaN</td>\n",
       "      <td>jnardino</td>\n",
       "      <td>NaN</td>\n",
       "      <td>0</td>\n",
       "      <td>@VirginAmerica it's really aggressive to blast...</td>\n",
       "      <td>NaN</td>\n",
       "      <td>2015-02-24 11:15:36 -0800</td>\n",
       "      <td>NaN</td>\n",
       "      <td>Pacific Time (US &amp; Canada)</td>\n",
       "    </tr>\n",
       "    <tr>\n",
       "      <th>4</th>\n",
       "      <td>570300817074462722</td>\n",
       "      <td>negative</td>\n",
       "      <td>1.0000</td>\n",
       "      <td>Can't Tell</td>\n",
       "      <td>1.0000</td>\n",
       "      <td>Virgin America</td>\n",
       "      <td>NaN</td>\n",
       "      <td>jnardino</td>\n",
       "      <td>NaN</td>\n",
       "      <td>0</td>\n",
       "      <td>@VirginAmerica and it's a really big bad thing...</td>\n",
       "      <td>NaN</td>\n",
       "      <td>2015-02-24 11:14:45 -0800</td>\n",
       "      <td>NaN</td>\n",
       "      <td>Pacific Time (US &amp; Canada)</td>\n",
       "    </tr>\n",
       "  </tbody>\n",
       "</table>\n",
       "</div>"
      ]
     },
     "execution_count": 1,
     "metadata": {},
     "output_type": "execute_result"
    }
   ],
   "execution_count": 1
  },
  {
   "metadata": {
    "ExecuteTime": {
     "end_time": "2024-07-23T04:17:25.159458Z",
     "start_time": "2024-07-23T04:17:25.149262Z"
    }
   },
   "cell_type": "code",
   "source": [
    "# Display column names and a sample of the data\n",
    "print(df.columns)\n",
    "print(df.head())\n",
    "\n",
    "# Select only the columns we need\n",
    "df = df[['text', 'sentiment']]\n"
   ],
   "id": "d386539c73517f19",
   "outputs": [
    {
     "name": "stdout",
     "output_type": "stream",
     "text": [
      "Index(['tweet_id', 'sentiment', 'airline_sentiment_confidence',\n",
      "       'negativereason', 'negativereason_confidence', 'airline',\n",
      "       'airline_sentiment_gold', 'name', 'negativereason_gold',\n",
      "       'retweet_count', 'text', 'tweet_coord', 'tweet_created',\n",
      "       'tweet_location', 'user_timezone'],\n",
      "      dtype='object')\n",
      "             tweet_id sentiment  airline_sentiment_confidence negativereason  \\\n",
      "0  570306133677760513   neutral                        1.0000            NaN   \n",
      "1  570301130888122368  positive                        0.3486            NaN   \n",
      "2  570301083672813571   neutral                        0.6837            NaN   \n",
      "3  570301031407624196  negative                        1.0000     Bad Flight   \n",
      "4  570300817074462722  negative                        1.0000     Can't Tell   \n",
      "\n",
      "   negativereason_confidence         airline airline_sentiment_gold  \\\n",
      "0                        NaN  Virgin America                    NaN   \n",
      "1                     0.0000  Virgin America                    NaN   \n",
      "2                        NaN  Virgin America                    NaN   \n",
      "3                     0.7033  Virgin America                    NaN   \n",
      "4                     1.0000  Virgin America                    NaN   \n",
      "\n",
      "         name negativereason_gold  retweet_count  \\\n",
      "0     cairdin                 NaN              0   \n",
      "1    jnardino                 NaN              0   \n",
      "2  yvonnalynn                 NaN              0   \n",
      "3    jnardino                 NaN              0   \n",
      "4    jnardino                 NaN              0   \n",
      "\n",
      "                                                text tweet_coord  \\\n",
      "0                @VirginAmerica What @dhepburn said.         NaN   \n",
      "1  @VirginAmerica plus you've added commercials t...         NaN   \n",
      "2  @VirginAmerica I didn't today... Must mean I n...         NaN   \n",
      "3  @VirginAmerica it's really aggressive to blast...         NaN   \n",
      "4  @VirginAmerica and it's a really big bad thing...         NaN   \n",
      "\n",
      "               tweet_created tweet_location               user_timezone  \n",
      "0  2015-02-24 11:35:52 -0800            NaN  Eastern Time (US & Canada)  \n",
      "1  2015-02-24 11:15:59 -0800            NaN  Pacific Time (US & Canada)  \n",
      "2  2015-02-24 11:15:48 -0800      Lets Play  Central Time (US & Canada)  \n",
      "3  2015-02-24 11:15:36 -0800            NaN  Pacific Time (US & Canada)  \n",
      "4  2015-02-24 11:14:45 -0800            NaN  Pacific Time (US & Canada)  \n"
     ]
    }
   ],
   "execution_count": 2
  },
  {
   "metadata": {
    "ExecuteTime": {
     "end_time": "2024-07-23T04:17:36.867916Z",
     "start_time": "2024-07-23T04:17:36.860883Z"
    }
   },
   "cell_type": "code",
   "source": [
    "# Display the unique sentiment values\n",
    "print(df['sentiment'].unique())"
   ],
   "id": "39bb064c7cf91ff5",
   "outputs": [
    {
     "name": "stdout",
     "output_type": "stream",
     "text": [
      "['neutral' 'positive' 'negative']\n"
     ]
    }
   ],
   "execution_count": 3
  },
  {
   "metadata": {},
   "cell_type": "markdown",
   "source": "Inspecting the dataset",
   "id": "d2d15d5654f3fa29"
  },
  {
   "metadata": {
    "ExecuteTime": {
     "end_time": "2024-07-23T04:19:19.694146Z",
     "start_time": "2024-07-23T04:19:19.670679Z"
    }
   },
   "cell_type": "code",
   "source": [
    "df.info()\n",
    "df.describe()"
   ],
   "id": "204b39705d4c3757",
   "outputs": [
    {
     "name": "stdout",
     "output_type": "stream",
     "text": [
      "<class 'pandas.core.frame.DataFrame'>\n",
      "RangeIndex: 14640 entries, 0 to 14639\n",
      "Data columns (total 2 columns):\n",
      " #   Column     Non-Null Count  Dtype \n",
      "---  ------     --------------  ----- \n",
      " 0   text       14640 non-null  object\n",
      " 1   sentiment  14640 non-null  object\n",
      "dtypes: object(2)\n",
      "memory usage: 228.9+ KB\n"
     ]
    },
    {
     "data": {
      "text/plain": [
       "                  text sentiment\n",
       "count            14640     14640\n",
       "unique           14427         3\n",
       "top     @united thanks  negative\n",
       "freq                 6      9178"
      ],
      "text/html": [
       "<div>\n",
       "<style scoped>\n",
       "    .dataframe tbody tr th:only-of-type {\n",
       "        vertical-align: middle;\n",
       "    }\n",
       "\n",
       "    .dataframe tbody tr th {\n",
       "        vertical-align: top;\n",
       "    }\n",
       "\n",
       "    .dataframe thead th {\n",
       "        text-align: right;\n",
       "    }\n",
       "</style>\n",
       "<table border=\"1\" class=\"dataframe\">\n",
       "  <thead>\n",
       "    <tr style=\"text-align: right;\">\n",
       "      <th></th>\n",
       "      <th>text</th>\n",
       "      <th>sentiment</th>\n",
       "    </tr>\n",
       "  </thead>\n",
       "  <tbody>\n",
       "    <tr>\n",
       "      <th>count</th>\n",
       "      <td>14640</td>\n",
       "      <td>14640</td>\n",
       "    </tr>\n",
       "    <tr>\n",
       "      <th>unique</th>\n",
       "      <td>14427</td>\n",
       "      <td>3</td>\n",
       "    </tr>\n",
       "    <tr>\n",
       "      <th>top</th>\n",
       "      <td>@united thanks</td>\n",
       "      <td>negative</td>\n",
       "    </tr>\n",
       "    <tr>\n",
       "      <th>freq</th>\n",
       "      <td>6</td>\n",
       "      <td>9178</td>\n",
       "    </tr>\n",
       "  </tbody>\n",
       "</table>\n",
       "</div>"
      ]
     },
     "execution_count": 6,
     "metadata": {},
     "output_type": "execute_result"
    }
   ],
   "execution_count": 6
  },
  {
   "metadata": {
    "ExecuteTime": {
     "end_time": "2024-07-23T04:19:58.326889Z",
     "start_time": "2024-07-23T04:19:58.318202Z"
    }
   },
   "cell_type": "code",
   "source": [
    "df.isnull().sum()\n",
    "\n",
    "df['sentiment'].value_counts()"
   ],
   "id": "dba823980d855565",
   "outputs": [
    {
     "data": {
      "text/plain": [
       "sentiment\n",
       "negative    9178\n",
       "neutral     3099\n",
       "positive    2363\n",
       "Name: count, dtype: int64"
      ]
     },
     "execution_count": 8,
     "metadata": {},
     "output_type": "execute_result"
    }
   ],
   "execution_count": 8
  },
  {
   "metadata": {
    "ExecuteTime": {
     "end_time": "2024-07-23T04:28:22.104541Z",
     "start_time": "2024-07-23T04:28:21.587537Z"
    }
   },
   "cell_type": "code",
   "source": [
    "import re\n",
    "import pandas as pd\n",
    "import string\n",
    "\n",
    "# Function to preprocess the text\n",
    "def preprocess_twitter(text):\n",
    "    # Convert to lowercase\n",
    "    text = text.lower()\n",
    "    \n",
    "    # Remove URLs\n",
    "    text = re.sub(r'http\\S+|www.\\S+', '', text)\n",
    "    \n",
    "    # Remove mentions\n",
    "    text = re.sub(r'@\\w+', '', text)\n",
    "    \n",
    "    # Remove hashtags but keep the text\n",
    "    text = re.sub(r'#', '', text)\n",
    "    \n",
    "    # Remove punctuation\n",
    "    text = text.translate(str.maketrans('', '', string.punctuation))\n",
    "    \n",
    "    # Normalize elongated words\n",
    "    text = re.sub(r'(.)\\1+', r'\\1\\1', text)\n",
    "    \n",
    "    # Remove airline names\n",
    "    airlines = ['americanair', 'united', 'southwestair', 'delta', 'jetblue', 'usairways', 'virginamerica']\n",
    "    for airline in airlines:\n",
    "        text = re.sub(airline, '', text)\n",
    "    \n",
    "    # Remove extra whitespace\n",
    "    text = ' '.join(text.split())\n",
    "    \n",
    "    return text\n",
    "\n",
    "# Sample usage with a DataFrame\n",
    "df = pd.read_csv('Tweets.csv')  # Replace with your dataset file\n",
    "df['cleaned_review'] = df['text'].apply(preprocess_twitter)\n",
    "\n",
    "# Save the cleaned data to a new CSV file\n",
    "df.to_csv('cleanedTweets.csv', index=False)\n"
   ],
   "id": "8c69e5863033790d",
   "outputs": [],
   "execution_count": 18
  },
  {
   "metadata": {
    "ExecuteTime": {
     "end_time": "2024-07-23T04:28:28.126267Z",
     "start_time": "2024-07-23T04:28:28.120079Z"
    }
   },
   "cell_type": "code",
   "source": "df['cleaned_review']  # virginAmerica United southwestair jetblue usairways americanair",
   "id": "2719899b9592a5c3",
   "outputs": [
    {
     "data": {
      "text/plain": [
       "0                                                what said\n",
       "1        plus youve added commercials to the experience...\n",
       "2        i didnt today must mean i need to take another...\n",
       "3        its really aggressive to blast obnoxious enter...\n",
       "4                  and its a really big bad thing about it\n",
       "                               ...                        \n",
       "14635    thank you we got on a different flight to chicago\n",
       "14636    leaving over 20 minutes late flight no warning...\n",
       "14637       please bring american airlines to blackberry10\n",
       "14638    you have my money you change my flight and don...\n",
       "14639    we have 8 ppl so we need 2 know how many seats...\n",
       "Name: cleaned_review, Length: 14640, dtype: object"
      ]
     },
     "execution_count": 19,
     "metadata": {},
     "output_type": "execute_result"
    }
   ],
   "execution_count": 19
  },
  {
   "metadata": {
    "ExecuteTime": {
     "end_time": "2024-07-23T04:28:34.529126Z",
     "start_time": "2024-07-23T04:28:34.516102Z"
    }
   },
   "cell_type": "code",
   "source": [
    "from sklearn.preprocessing import LabelEncoder\n",
    "\n",
    "le = LabelEncoder()\n",
    "\n",
    "df['sentiment_encoded'] = le.fit_transform(df['sentiment'])\n",
    "\n",
    "df[['sentiment', 'sentiment_encoded']].head()\n",
    "\n",
    "df['sentiment_encoded'].value_counts()"
   ],
   "id": "baa2374d3eadf8ba",
   "outputs": [
    {
     "data": {
      "text/plain": [
       "sentiment_encoded\n",
       "0    9178\n",
       "1    3099\n",
       "2    2363\n",
       "Name: count, dtype: int64"
      ]
     },
     "execution_count": 20,
     "metadata": {},
     "output_type": "execute_result"
    }
   ],
   "execution_count": 20
  },
  {
   "metadata": {
    "ExecuteTime": {
     "end_time": "2024-07-23T04:28:37.552614Z",
     "start_time": "2024-07-23T04:28:37.471908Z"
    }
   },
   "cell_type": "code",
   "source": [
    "import matplotlib.pyplot as plt\n",
    "\n",
    "# Plot distribution of sentiment labels\n",
    "df['sentiment_encoded'].value_counts().plot(kind='bar')\n",
    "\n",
    "plt.title('Distribution of Sentiment Labels')\n",
    "\n",
    "plt.xlabel('Sentiment')\n",
    "plt.ylabel('Count')\n",
    "plt.show()\n"
   ],
   "id": "a63066ced102e965",
   "outputs": [
    {
     "data": {
      "text/plain": [
       "<Figure size 640x480 with 1 Axes>"
      ],
      "image/png": "[encoded data removed]"
     },
     "metadata": {},
     "output_type": "display_data"
    }
   ],
   "execution_count": 21
  },
  {
   "metadata": {
    "ExecuteTime": {
     "end_time": "2024-07-23T04:28:45.696662Z",
     "start_time": "2024-07-23T04:28:45.685101Z"
    }
   },
   "cell_type": "code",
   "source": [
    "# Calculate the length of each cleaned review\n",
    "review_lengths = df['cleaned_review'].str.len()\n",
    "\n",
    "# Get a statistical summary of review lengths\n",
    "print(review_lengths.describe())\n"
   ],
   "id": "39103844b5ffb7ef",
   "outputs": [
    {
     "name": "stdout",
     "output_type": "stream",
     "text": [
      "count    14640.000000\n",
      "mean        85.340574\n",
      "std         35.596217\n",
      "min          1.000000\n",
      "25%         58.000000\n",
      "50%         94.000000\n",
      "75%        117.000000\n",
      "max        165.000000\n",
      "Name: cleaned_review, dtype: float64\n"
     ]
    }
   ],
   "execution_count": 22
  },
  {
   "metadata": {
    "ExecuteTime": {
     "end_time": "2024-07-23T04:28:48.318996Z",
     "start_time": "2024-07-23T04:28:48.309700Z"
    }
   },
   "cell_type": "code",
   "source": [
    "# Set the maximum length for reviews\n",
    "MAX_LENGTH = 120\n",
    "\n",
    "# Truncate reviews longer than MAX_LENGTH\n",
    "df['cleaned_review'] = df['cleaned_review'].apply(lambda x: x[:MAX_LENGTH])\n"
   ],
   "id": "6098cc13f6534883",
   "outputs": [],
   "execution_count": 23
  },
  {
   "metadata": {
    "ExecuteTime": {
     "end_time": "2024-07-23T04:29:21.643085Z",
     "start_time": "2024-07-23T04:29:21.636454Z"
    }
   },
   "cell_type": "code",
   "source": [
    "# Set the minimum length for reviews\n",
    "MIN_LENGTH = 55\n",
    "\n",
    "# Pad reviews shorter than MIN_LENGTH\n",
    "df['cleaned_review'] = df['cleaned_review'].apply(lambda x: x.ljust(MIN_LENGTH))"
   ],
   "id": "be936833583b7924",
   "outputs": [],
   "execution_count": 24
  },
  {
   "metadata": {
    "ExecuteTime": {
     "end_time": "2024-07-23T04:29:32.918050Z",
     "start_time": "2024-07-23T04:29:32.898972Z"
    }
   },
   "cell_type": "code",
   "source": [
    "print(df['cleaned_review'].apply(len).describe())\n",
    "\n",
    "# Sample of truncated reviews\n",
    "df[df['cleaned_review'].str.len() == MIN_LENGTH].sample(5)['cleaned_review']\n"
   ],
   "id": "43c3b8aeafac70fd",
   "outputs": [
    {
     "name": "stdout",
     "output_type": "stream",
     "text": [
      "count    14640.000000\n",
      "mean        89.438934\n",
      "std         25.950706\n",
      "min         55.000000\n",
      "25%         58.000000\n",
      "50%         94.000000\n",
      "75%        117.000000\n",
      "max        120.000000\n",
      "Name: cleaned_review, dtype: float64\n"
     ]
    },
    {
     "data": {
      "text/plain": [
       "4282     i need my confirmation number can you give it ...\n",
       "11205    yeah i have been expecting the same for 3 hour...\n",
       "2482     oh the wifi router is on top of the fuselage  ...\n",
       "10250    worst experience ever                         ...\n",
       "10976    we willsunday just a few days away            ...\n",
       "Name: cleaned_review, dtype: object"
      ]
     },
     "execution_count": 25,
     "metadata": {},
     "output_type": "execute_result"
    }
   ],
   "execution_count": 25
  },
  {
   "metadata": {
    "ExecuteTime": {
     "end_time": "2024-07-23T04:30:06.282050Z",
     "start_time": "2024-07-23T04:30:06.150431Z"
    }
   },
   "cell_type": "code",
   "source": [
    "import matplotlib.pyplot as plt\n",
    "\n",
    "plt.hist(df['cleaned_review'].apply(len), bins=50)\n",
    "plt.title('Distribution of Review Lengths')\n",
    "plt.xlabel('Length')\n",
    "plt.ylabel('Frequency')\n",
    "plt.show()\n"
   ],
   "id": "220570a25cf1b1a6",
   "outputs": [
    {
     "data": {
      "text/plain": [
       "<Figure size 640x480 with 1 Axes>"
      ],
      "image/png": "[encoded data removed]"
     },
     "metadata": {},
     "output_type": "display_data"
    }
   ],
   "execution_count": 26
  },
  {
   "metadata": {},
   "cell_type": "code",
   "outputs": [],
   "execution_count": 27,
   "source": [
    "from sklearn.feature_extraction.text import TfidfVectorizer\n",
    "\n",
    "vectorizer = TfidfVectorizer(min_df=5,stop_words='english')\n",
    "\n",
    "matrix = vectorizer.fit_transform(df['cleaned_review'])"
   ],
   "id": "9a9e7c6ac71e12c8"
  },
  {
   "metadata": {},
   "cell_type": "code",
   "outputs": [
    {
     "name": "stdout",
     "output_type": "stream",
     "text": [
      "(14640, 2746)\n"
     ]
    }
   ],
   "execution_count": 28,
   "source": [
    "# Convert the matrix to a DataFrame for better readability\n",
    "tfidf_df = pd.DataFrame(matrix.toarray(), columns=vectorizer.get_feature_names_out())\n",
    "\n",
    "print(tfidf_df.shape)"
   ],
   "id": "88aeb421f39133df"
  },
  {
   "metadata": {},
   "cell_type": "markdown",
   "source": "Splitting the data",
   "id": "db5b610e97d080d8"
  },
  {
   "metadata": {},
   "cell_type": "code",
   "outputs": [],
   "execution_count": 30,
   "source": [
    "from sklearn.model_selection import train_test_split\n",
    "\n",
    "# Features and labels\n",
    "X = matrix  \n",
    "y = df['sentiment']\n",
    "\n",
    "# Split the data into training and testing sets\n",
    "X_train, X_test, y_train, y_test = train_test_split(X, y, test_size=0.2, random_state=42)\n"
   ],
   "id": "7bc87b7ba9c903ca"
  },
  {
   "metadata": {},
   "cell_type": "code",
   "outputs": [
    {
     "name": "stdout",
     "output_type": "stream",
     "text": [
      "Training set size: (11712, 2746), (11712,)\n",
      "Testing set size: (2928, 2746), (2928,)\n"
     ]
    }
   ],
   "execution_count": 31,
   "source": [
    "# Verify the split\n",
    "print(f\"Training set size: {X_train.shape}, {y_train.shape}\")\n",
    "print(f\"Testing set size: {X_test.shape}, {y_test.shape}\")\n"
   ],
   "id": "e80945f473cf298f"
  },
  {
   "metadata": {},
   "cell_type": "code",
   "outputs": [
    {
     "name": "stdout",
     "output_type": "stream",
     "text": [
      "Sample of cleaned reviews from training data:\n",
      "Review 1:\n",
      "<Compressed Sparse Row sparse matrix of dtype 'float64'\n",
      "\twith 5 stored elements and shape (1, 2746)>\n",
      "  Coords\tValues\n",
      "  (0, 1825)\t0.31985054037636507\n",
      "  (0, 64)\t0.514548935004731\n",
      "  (0, 966)\t0.374800675671721\n",
      "  (0, 1726)\t0.46536388020190467\n",
      "  (0, 2112)\t0.5252579726438175\n",
      "Sentiment: negative\n",
      "\n",
      "Review 2:\n",
      "<Compressed Sparse Row sparse matrix of dtype 'float64'\n",
      "\twith 10 stored elements and shape (1, 2746)>\n",
      "  Coords\tValues\n",
      "  (0, 939)\t0.2725484558989805\n",
      "  (0, 228)\t0.3066916328511797\n",
      "  (0, 1442)\t0.29992672974811957\n",
      "  (0, 1718)\t0.3274293231439821\n",
      "  (0, 801)\t0.3911164279565062\n",
      "  (0, 1383)\t0.27755580979465044\n",
      "  (0, 2314)\t0.27668646131703584\n",
      "  (0, 879)\t0.26447541403602437\n",
      "  (0, 776)\t0.3584304039237046\n",
      "  (0, 2187)\t0.35987121574728614\n",
      "Sentiment: negative\n",
      "\n",
      "Review 3:\n",
      "<Compressed Sparse Row sparse matrix of dtype 'float64'\n",
      "\twith 5 stored elements and shape (1, 2746)>\n",
      "  Coords\tValues\n",
      "  (0, 2102)\t0.36691596875192295\n",
      "  (0, 1309)\t0.37924810861516645\n",
      "  (0, 2573)\t0.41340734682632435\n",
      "  (0, 1022)\t0.5213853396146104\n",
      "  (0, 679)\t0.528010641191665\n",
      "Sentiment: positive\n",
      "\n",
      "Review 4:\n",
      "<Compressed Sparse Row sparse matrix of dtype 'float64'\n",
      "\twith 7 stored elements and shape (1, 2746)>\n",
      "  Coords\tValues\n",
      "  (0, 1043)\t0.15687517599215095\n",
      "  (0, 339)\t0.3289562187250379\n",
      "  (0, 779)\t0.356119636388986\n",
      "  (0, 2618)\t0.29962701648508594\n",
      "  (0, 2246)\t0.33480916457553417\n",
      "  (0, 1494)\t0.49221212212525356\n",
      "  (0, 62)\t0.5442522310833153\n",
      "Sentiment: negative\n",
      "\n",
      "Review 5:\n",
      "<Compressed Sparse Row sparse matrix of dtype 'float64'\n",
      "\twith 4 stored elements and shape (1, 2746)>\n",
      "  Coords\tValues\n",
      "  (0, 2469)\t0.3805606767463066\n",
      "  (0, 423)\t0.5296659343345103\n",
      "  (0, 1803)\t0.5031538009120313\n",
      "  (0, 587)\t0.5669777966972951\n",
      "Sentiment: neutral\n",
      "\n"
     ]
    }
   ],
   "execution_count": 32,
   "source": [
    "# Review some sample data from the training set\n",
    "print(\"Sample of cleaned reviews from training data:\")\n",
    "for i in range(5):  # Displaying first 5 samples\n",
    "    print(f\"Review {i+1}:\")\n",
    "    print(X_train[i])  # Print the feature vector\n",
    "    print(\"Sentiment:\", y_train.iloc[i])\n",
    "    print()\n"
   ],
   "id": "6e4fde618bdb5097"
  },
  {
   "metadata": {},
   "cell_type": "code",
   "outputs": [
    {
     "name": "stdout",
     "output_type": "stream",
     "text": [
      "Sample of cleaned reviews from training data:\n",
      "Review 1:\n",
      "you are offering us 8 rooms for 32 people fail         \n",
      "Sentiment: negative\n",
      "\n",
      "Review 2:\n",
      "jfk nyc staff is amazing the lax sending an email with details but it was a disappointing experience\n",
      "Sentiment: negative\n",
      "\n",
      "Review 3:\n",
      "well the last update was in the right direction at least ill keep my fingers crossed\n",
      "Sentiment: positive\n",
      "\n",
      "Review 4:\n",
      "flight 3056 still sitting at dfw waiting for baggage to be loaded\n",
      "Sentiment: negative\n",
      "\n",
      "Review 5:\n",
      "is your companion pass broken today purchaseerrorinvalidloyaltymemberaccountstatus sw9001vyil1xklrog24fs918ja\n",
      "Sentiment: neutral\n",
      "\n"
     ]
    }
   ],
   "execution_count": 33,
   "source": [
    "# Review some sample text data (not the vectorized form)\n",
    "print(\"Sample of cleaned reviews from training data:\")\n",
    "for i in range(5):  # Displaying first 5 samples\n",
    "    print(f\"Review {i+1}:\")\n",
    "    print(df.iloc[y_train.index[i]]['cleaned_review'])  # Print the actual text review\n",
    "    print(\"Sentiment:\", y_train.iloc[i])\n",
    "    print()\n"
   ],
   "id": "ec42d1f7f0af9b16"
  },
  {
   "metadata": {},
   "cell_type": "code",
   "outputs": [
    {
     "name": "stdout",
     "output_type": "stream",
     "text": [
      "Top words in the first review:\n",
      "rooms       0.525258\n",
      "32          0.514549\n",
      "offering    0.465364\n",
      "fail        0.374801\n",
      "people      0.319851\n",
      "yest        0.000000\n",
      "1230        0.000000\n",
      "zone        0.000000\n",
      "10          0.000000\n",
      "100         0.000000\n",
      "1024        0.000000\n",
      "1030        0.000000\n",
      "12          0.000000\n",
      "wrote       0.000000\n",
      "wtf         0.000000\n",
      "wth         0.000000\n",
      "wu          0.000000\n",
      "ya          0.000000\n",
      "yall        0.000000\n",
      "yay         0.000000\n",
      "Name: 0, dtype: float64\n"
     ]
    }
   ],
   "execution_count": 34,
   "source": [
    "# To understand what words are associated with high values in the vector\n",
    "feature_names = vectorizer.get_feature_names_out()  # Get feature names\n",
    "dense = X_train[0].todense()  # Take the first sample and convert to dense matrix\n",
    "denselist = dense.tolist()  # Convert to list\n",
    "df_tfidf = pd.DataFrame(denselist, columns=feature_names)  # Create DataFrame\n",
    "\n",
    "# Sort words by their TF-IDF score for the first review\n",
    "sorted_words = df_tfidf.iloc[0].sort_values(ascending=False)\n",
    "print(\"Top words in the first review:\")\n",
    "print(sorted_words.head(20))  # Show top 20 words\n"
   ],
   "id": "e6fcb6c051f244be"
  },
  {
   "metadata": {},
   "cell_type": "markdown",
   "source": "Initalizing naive base",
   "id": "f62daf4755fdaa0a"
  },
  {
   "metadata": {},
   "cell_type": "code",
   "outputs": [],
   "execution_count": 35,
   "source": [
    "from sklearn.naive_bayes import MultinomialNB\n",
    "from sklearn.metrics import accuracy_score\n",
    "\n",
    "model = MultinomialNB()"
   ],
   "id": "1bcd740b9ec356e"
  },
  {
   "metadata": {},
   "cell_type": "code",
   "outputs": [
    {
     "name": "stdout",
     "output_type": "stream",
     "text": [
      "sentiment\n",
      "negative    7289\n",
      "positive    7289\n",
      "neutral     7289\n",
      "Name: count, dtype: int64\n"
     ]
    }
   ],
   "execution_count": 41,
   "source": [
    "# Train the model\n",
    "model.fit(X_train, y_train)\n",
    "\n",
    "y_pred = model.predict(X_test)\n",
    "accuracy = accuracy_score(y_test, y_pred)\n",
    "print(f\"Accuracy: {accuracy}\")\n",
    "from sklearn.metrics import classification_report, accuracy_score, confusion_matrix\n",
    "\n",
    "# Make predictions on the test set\n",
    "y_pred = model.predict(X_test)\n",
    "\n",
    "# Print the accuracy\n",
    "accuracy = accuracy_score(y_test, y_pred)\n",
    "print(f'Accuracy: {accuracy}')\n",
    "\n",
    "# Print the classification report\n",
    "report = classification_report(y_test, y_pred)\n",
    "print(report)\n",
    "\n",
    "# Print the confusion matrix\n",
    "conf_matrix = confusion_matrix(y_test, y_pred)\n",
    "print(conf_matrix)\n",
    "\n",
    "from imblearn.over_sampling import SMOTE\n",
    "\n",
    "# Apply SMOTE to balance the dataset\n",
    "smote = SMOTE(random_state=42)\n",
    "X_resampled, y_resampled = smote.fit_resample(X_train, y_train)\n",
    "\n",
    "# Check the distribution of the resampled dataset\n",
    "print(pd.Series(y_resampled).value_counts())\n"
   ],
   "id": "6ba29e614af0d8c8"
  }
 ],
 "metadata": {
  "kernelspec": {
   "display_name": "Python 3",
   "language": "python",
   "name": "python3"
  },
  "language_info": {
   "codemirror_mode": {
    "name": "ipython",
    "version": 2
   },
   "file_extension": ".py",
   "mimetype": "text/x-python",
   "name": "python",
   "nbconvert_exporter": "python",
   "pygments_lexer": "ipython2",
   "version": "2.7.6"
  }
 },
 "nbformat": 4,
 "nbformat_minor": 5
}
