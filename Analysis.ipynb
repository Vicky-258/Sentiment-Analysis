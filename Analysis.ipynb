{
 "cells": [
  {
   "metadata": {},
   "cell_type": "markdown",
   "source": [
    "Getting Started\n",
    "\n",
    "Loading and reviewing the data set"
   ],
   "id": "52df9cb17f21f5e7"
  },
  {
   "metadata": {
    "ExecuteTime": {
     "end_time": "2024-10-07T12:48:45.839400Z",
     "start_time": "2024-10-07T12:48:44.563409Z"
    }
   },
   "cell_type": "code",
   "source": [
    "import pandas as pd\n",
    "\n",
    "# Loading the dataset\n",
    "df = pd.read_csv('IMDB Dataset.csv')\n",
    "\n",
    "# Displaying the first fwe rows\n",
    "df.head()"
   ],
   "id": "32f1df94084a8376",
   "outputs": [
    {
     "data": {
      "text/plain": [
       "                                              review sentiment\n",
       "0  One of the other reviewers has mentioned that ...  positive\n",
       "1  A wonderful little production. <br /><br />The...  positive\n",
       "2  I thought this was a wonderful way to spend ti...  positive\n",
       "3  Basically there's a family where a little boy ...  negative\n",
       "4  Petter Mattei's \"Love in the Time of Money\" is...  positive"
      ],
      "text/html": [
       "<div>\n",
       "<style scoped>\n",
       "    .dataframe tbody tr th:only-of-type {\n",
       "        vertical-align: middle;\n",
       "    }\n",
       "\n",
       "    .dataframe tbody tr th {\n",
       "        vertical-align: top;\n",
       "    }\n",
       "\n",
       "    .dataframe thead th {\n",
       "        text-align: right;\n",
       "    }\n",
       "</style>\n",
       "<table border=\"1\" class=\"dataframe\">\n",
       "  <thead>\n",
       "    <tr style=\"text-align: right;\">\n",
       "      <th></th>\n",
       "      <th>review</th>\n",
       "      <th>sentiment</th>\n",
       "    </tr>\n",
       "  </thead>\n",
       "  <tbody>\n",
       "    <tr>\n",
       "      <th>0</th>\n",
       "      <td>One of the other reviewers has mentioned that ...</td>\n",
       "      <td>positive</td>\n",
       "    </tr>\n",
       "    <tr>\n",
       "      <th>1</th>\n",
       "      <td>A wonderful little production. &lt;br /&gt;&lt;br /&gt;The...</td>\n",
       "      <td>positive</td>\n",
       "    </tr>\n",
       "    <tr>\n",
       "      <th>2</th>\n",
       "      <td>I thought this was a wonderful way to spend ti...</td>\n",
       "      <td>positive</td>\n",
       "    </tr>\n",
       "    <tr>\n",
       "      <th>3</th>\n",
       "      <td>Basically there's a family where a little boy ...</td>\n",
       "      <td>negative</td>\n",
       "    </tr>\n",
       "    <tr>\n",
       "      <th>4</th>\n",
       "      <td>Petter Mattei's \"Love in the Time of Money\" is...</td>\n",
       "      <td>positive</td>\n",
       "    </tr>\n",
       "  </tbody>\n",
       "</table>\n",
       "</div>"
      ]
     },
     "execution_count": 8,
     "metadata": {},
     "output_type": "execute_result"
    }
   ],
   "execution_count": 8
  },
  {
   "metadata": {},
   "cell_type": "markdown",
   "source": "Inspecting the dataset",
   "id": "bc4a97829da4a660"
  },
  {
   "metadata": {
    "ExecuteTime": {
     "end_time": "2024-10-07T12:48:48.448329Z",
     "start_time": "2024-10-07T12:48:48.292666Z"
    }
   },
   "cell_type": "code",
   "source": [
    "df.info()\n",
    "df.describe()"
   ],
   "id": "5862d4ce43ad5e18",
   "outputs": [
    {
     "name": "stdout",
     "output_type": "stream",
     "text": [
      "<class 'pandas.core.frame.DataFrame'>\n",
      "RangeIndex: 50000 entries, 0 to 49999\n",
      "Data columns (total 2 columns):\n",
      " #   Column     Non-Null Count  Dtype \n",
      "---  ------     --------------  ----- \n",
      " 0   review     50000 non-null  object\n",
      " 1   sentiment  50000 non-null  object\n",
      "dtypes: object(2)\n",
      "memory usage: 781.4+ KB\n"
     ]
    },
    {
     "data": {
      "text/plain": [
       "                                                   review sentiment\n",
       "count                                               50000     50000\n",
       "unique                                              49582         2\n",
       "top     Loved today's show!!! It was a variety and not...  positive\n",
       "freq                                                    5     25000"
      ],
      "text/html": [
       "<div>\n",
       "<style scoped>\n",
       "    .dataframe tbody tr th:only-of-type {\n",
       "        vertical-align: middle;\n",
       "    }\n",
       "\n",
       "    .dataframe tbody tr th {\n",
       "        vertical-align: top;\n",
       "    }\n",
       "\n",
       "    .dataframe thead th {\n",
       "        text-align: right;\n",
       "    }\n",
       "</style>\n",
       "<table border=\"1\" class=\"dataframe\">\n",
       "  <thead>\n",
       "    <tr style=\"text-align: right;\">\n",
       "      <th></th>\n",
       "      <th>review</th>\n",
       "      <th>sentiment</th>\n",
       "    </tr>\n",
       "  </thead>\n",
       "  <tbody>\n",
       "    <tr>\n",
       "      <th>count</th>\n",
       "      <td>50000</td>\n",
       "      <td>50000</td>\n",
       "    </tr>\n",
       "    <tr>\n",
       "      <th>unique</th>\n",
       "      <td>49582</td>\n",
       "      <td>2</td>\n",
       "    </tr>\n",
       "    <tr>\n",
       "      <th>top</th>\n",
       "      <td>Loved today's show!!! It was a variety and not...</td>\n",
       "      <td>positive</td>\n",
       "    </tr>\n",
       "    <tr>\n",
       "      <th>freq</th>\n",
       "      <td>5</td>\n",
       "      <td>25000</td>\n",
       "    </tr>\n",
       "  </tbody>\n",
       "</table>\n",
       "</div>"
      ]
     },
     "execution_count": 9,
     "metadata": {},
     "output_type": "execute_result"
    }
   ],
   "execution_count": 9
  },
  {
   "metadata": {
    "ExecuteTime": {
     "end_time": "2024-10-07T12:48:50.512927Z",
     "start_time": "2024-10-07T12:48:50.488940Z"
    }
   },
   "cell_type": "code",
   "source": [
    "df.isnull().sum()\n",
    "\n",
    "df['sentiment'].value_counts()"
   ],
   "id": "db1b45418d95a49e",
   "outputs": [
    {
     "data": {
      "text/plain": [
       "sentiment\n",
       "positive    25000\n",
       "negative    25000\n",
       "Name: count, dtype: int64"
      ]
     },
     "execution_count": 10,
     "metadata": {},
     "output_type": "execute_result"
    }
   ],
   "execution_count": 10
  },
  {
   "metadata": {
    "ExecuteTime": {
     "end_time": "2024-10-07T12:52:49.451814Z",
     "start_time": "2024-10-07T12:51:04.084239Z"
    }
   },
   "cell_type": "code",
   "source": [
    "import re\n",
    "from nltk.corpus import stopwords\n",
    "from nltk.stem import WordNetLemmatizer\n",
    "from nltk.tokenize import word_tokenize\n",
    "\n",
    "# Initialize the lemmatizer and stop words list\n",
    "lemmatizer = WordNetLemmatizer()\n",
    "stop_words = set(stopwords.words('english'))\n",
    "\n",
    "def handle_negations(words):\n",
    "    negation_words = [\"not\", \"no\", \"never\", \"none\", \"nobody\", \"nothing\", \"neither\", \"nowhere\", \"hardly\", \"scarcely\", \"rarely\"]\n",
    "    \n",
    "    for i in range(len(words)):\n",
    "        if words[i] in negation_words and i < len(words) - 1:\n",
    "            words[i + 1] = \"not_\" + words[i + 1]  # Change 'good' to 'not_good'\n",
    "        if words[i] == \"not\" and i < len(words) - 2:\n",
    "            # Handling \"not very good\"\n",
    "            if words[i + 1] == \"very\":\n",
    "                words[i + 2] = \"not_very_\" + words[i + 2]\n",
    "                words[i + 1] = \"\"  # Remove \"very\"\n",
    "    \n",
    "    return words\n",
    "\n",
    "def preprocess_text(text):\n",
    "    text = text.lower()  # Convert to lowercase\n",
    "    text = re.sub(r'<br\\s*/?>', ' ', text)  # Replace <br/> with space\n",
    "    text = re.sub(r'<[^>]+>', '', text)  # Remove any remaining HTML tags\n",
    "    text = re.sub(r'[^\\w\\s]', '', text)  # Remove punctuation\n",
    "\n",
    "    # Tokenize the text\n",
    "    words = word_tokenize(text)\n",
    "\n",
    "    # Remove stop words (optional)\n",
    "    words = [word for word in words if word not in stop_words]\n",
    "\n",
    "    # Lemmatize words\n",
    "    words = [lemmatizer.lemmatize(word) for word in words]\n",
    "\n",
    "    # Handle negations\n",
    "    words = handle_negations(words)\n",
    "\n",
    "    # Join words back into a single string\n",
    "    cleaned_text = ' '.join(words)\n",
    "    \n",
    "    # Remove extra whitespace\n",
    "    cleaned_text = ' '.join(cleaned_text.split())\n",
    "    \n",
    "    return cleaned_text\n",
    "\n",
    "df['cleaned_review'] = df['review'].apply(preprocess_text)\n"
   ],
   "id": "f08dc73c63bb29b7",
   "outputs": [],
   "execution_count": 15
  },
  {
   "metadata": {
    "ExecuteTime": {
     "end_time": "2024-10-07T12:55:54.486714Z",
     "start_time": "2024-10-07T12:55:54.478704Z"
    }
   },
   "cell_type": "code",
   "source": [
    "for i in range(5):  # Print the first 5 samples\n",
    "    print(f\"Original: {df.iloc[i]['review']}\")\n",
    "    print(f\"Cleaned: {df.iloc[i]['cleaned_review']}\\n\")\n"
   ],
   "id": "13a15ae385556374",
   "outputs": [
    {
     "name": "stdout",
     "output_type": "stream",
     "text": [
      "Original: One of the other reviewers has mentioned that after watching just 1 Oz episode you'll be hooked. They are right, as this is exactly what happened with me.<br /><br />The first thing that struck me about Oz was its brutality and unflinching scenes of violence, which set in right from the word GO. Trust me, this is not a show for the faint hearted or timid. This show pulls no punches with regards to drugs, sex or violence. Its is hardcore, in the classic use of the word.<br /><br />It is called OZ as that is the nickname given to the Oswald Maximum Security State Penitentary. It focuses mainly on Emerald City, an experimental section of the prison where all the cells have glass fronts and face inwards, so privacy is not high on the agenda. Em City is home to many..Aryans, Muslims, gangstas, Latinos, Christians, Italians, Irish and more....so scuffles, death stares, dodgy dealings and shady agreements are never far away.<br /><br />I would say the main appeal of the show is due to the fact that it goes where other shows wouldn't dare. Forget pretty pictures painted for mainstream audiences, forget charm, forget romance...OZ doesn't mess around. The first episode I ever saw struck me as so nasty it was surreal, I couldn't say I was ready for it, but as I watched more, I developed a taste for Oz, and got accustomed to the high levels of graphic violence. Not just violence, but injustice (crooked guards who'll be sold out for a nickel, inmates who'll kill on order and get away with it, well mannered, middle class inmates being turned into prison bitches due to their lack of street skills or prison experience) Watching Oz, you may become comfortable with what is uncomfortable viewing....thats if you can get in touch with your darker side.\n",
      "Cleaned: one reviewer mentioned watching 1 oz episode youll hooked right exactly happened first thing struck oz brutality unflinching scene violence set right word go trust show faint hearted timid show pull punch regard drug sex violence hardcore classic use word called oz nickname given oswald maximum security state penitentary focus mainly emerald city experimental section prison cell glass front face inwards privacy high agenda em city home manyaryans muslim gangsta latino christian italian irish moreso scuffle death stare dodgy dealing shady agreement never not_far away would say main appeal show due fact go show wouldnt dare forget pretty picture painted mainstream audience forget charm forget romanceoz doesnt mess around first episode ever saw struck nasty surreal couldnt say ready watched developed taste oz got accustomed high level graphic violence violence injustice crooked guard wholl sold nickel inmate wholl kill order get away well mannered middle class inmate turned prison bitch due lack street skill prison experience watching oz may become comfortable uncomfortable viewingthats get touch darker side\n",
      "\n",
      "Original: A wonderful little production. <br /><br />The filming technique is very unassuming- very old-time-BBC fashion and gives a comforting, and sometimes discomforting, sense of realism to the entire piece. <br /><br />The actors are extremely well chosen- Michael Sheen not only \"has got all the polari\" but he has all the voices down pat too! You can truly see the seamless editing guided by the references to Williams' diary entries, not only is it well worth the watching but it is a terrificly written and performed piece. A masterful production about one of the great master's of comedy and his life. <br /><br />The realism really comes home with the little things: the fantasy of the guard which, rather than use the traditional 'dream' techniques remains solid then disappears. It plays on our knowledge and our senses, particularly with the scenes concerning Orton and Halliwell and the sets (particularly of their flat with Halliwell's murals decorating every surface) are terribly well done.\n",
      "Cleaned: wonderful little production filming technique unassuming oldtimebbc fashion give comforting sometimes discomforting sense realism entire piece actor extremely well chosen michael sheen got polari voice pat truly see seamless editing guided reference williams diary entry well worth watching terrificly written performed piece masterful production one great master comedy life realism really come home little thing fantasy guard rather use traditional dream technique remains solid disappears play knowledge sens particularly scene concerning orton halliwell set particularly flat halliwells mural decorating every surface terribly well done\n",
      "\n",
      "Original: I thought this was a wonderful way to spend time on a too hot summer weekend, sitting in the air conditioned theater and watching a light-hearted comedy. The plot is simplistic, but the dialogue is witty and the characters are likable (even the well bread suspected serial killer). While some may be disappointed when they realize this is not Match Point 2: Risk Addiction, I thought it was proof that Woody Allen is still fully in control of the style many of us have grown to love.<br /><br />This was the most I'd laughed at one of Woody's comedies in years (dare I say a decade?). While I've never been impressed with Scarlet Johanson, in this she managed to tone down her \"sexy\" image and jumped right into a average, but spirited young woman.<br /><br />This may not be the crown jewel of his career, but it was wittier than \"Devil Wears Prada\" and more interesting than \"Superman\" a great comedy to go see with friends.\n",
      "Cleaned: thought wonderful way spend time hot summer weekend sitting air conditioned theater watching lighthearted comedy plot simplistic dialogue witty character likable even well bread suspected serial killer may disappointed realize match point 2 risk addiction thought proof woody allen still fully control style many u grown love id laughed one woodys comedy year dare say decade ive never not_impressed scarlet johanson managed tone sexy image jumped right average spirited young woman may crown jewel career wittier devil wear prada interesting superman great comedy go see friend\n",
      "\n",
      "Original: Basically there's a family where a little boy (Jake) thinks there's a zombie in his closet & his parents are fighting all the time.<br /><br />This movie is slower than a soap opera... and suddenly, Jake decides to become Rambo and kill the zombie.<br /><br />OK, first of all when you're going to make a film you must Decide if its a thriller or a drama! As a drama the movie is watchable. Parents are divorcing & arguing like in real life. And then we have Jake with his closet which totally ruins all the film! I expected to see a BOOGEYMAN similar movie, and instead i watched a drama with some meaningless thriller spots.<br /><br />3 out of 10 just for the well playing parents & descent dialogs. As for the shots with Jake: just ignore them.\n",
      "Cleaned: basically there family little boy jake think there zombie closet parent fighting time movie slower soap opera suddenly jake decides become rambo kill zombie ok first youre going make film must decide thriller drama drama movie watchable parent divorcing arguing like real life jake closet totally ruin film expected see boogeyman similar movie instead watched drama meaningless thriller spot 3 10 well playing parent descent dialog shot jake ignore\n",
      "\n",
      "Original: Petter Mattei's \"Love in the Time of Money\" is a visually stunning film to watch. Mr. Mattei offers us a vivid portrait about human relations. This is a movie that seems to be telling us what money, power and success do to people in the different situations we encounter. <br /><br />This being a variation on the Arthur Schnitzler's play about the same theme, the director transfers the action to the present time New York where all these different characters meet and connect. Each one is connected in one way, or another to the next person, but no one seems to know the previous point of contact. Stylishly, the film has a sophisticated luxurious look. We are taken to see how these people live and the world they live in their own habitat.<br /><br />The only thing one gets out of all these souls in the picture is the different stages of loneliness each one inhabits. A big city is not exactly the best place in which human relations find sincere fulfillment, as one discerns is the case with most of the people we encounter.<br /><br />The acting is good under Mr. Mattei's direction. Steve Buscemi, Rosario Dawson, Carol Kane, Michael Imperioli, Adrian Grenier, and the rest of the talented cast, make these characters come alive.<br /><br />We wish Mr. Mattei good luck and await anxiously for his next work.\n",
      "Cleaned: petter matteis love time money visually stunning film watch mr mattei offer u vivid portrait human relation movie seems telling u money power success people different situation encounter variation arthur schnitzlers play theme director transfer action present time new york different character meet connect one connected one way another next person one seems know previous point contact stylishly film sophisticated luxurious look taken see people live world live habitat thing one get soul picture different stage loneliness one inhabits big city exactly best place human relation find sincere fulfillment one discerns case people encounter acting good mr matteis direction steve buscemi rosario dawson carol kane michael imperioli adrian grenier rest talented cast make character come alive wish mr mattei good luck await anxiously next work\n",
      "\n"
     ]
    }
   ],
   "execution_count": 16
  },
  {
   "metadata": {
    "ExecuteTime": {
     "end_time": "2024-10-07T12:55:57.216353Z",
     "start_time": "2024-10-07T12:55:57.191684Z"
    }
   },
   "cell_type": "code",
   "source": [
    "from sklearn.preprocessing import LabelEncoder\n",
    "\n",
    "le = LabelEncoder()\n",
    "\n",
    "df['sentiment_encoded'] = le.fit_transform(df['sentiment'])\n",
    "\n",
    "df[['sentiment', 'sentiment_encoded']].head()\n",
    "\n",
    "df['sentiment_encoded'].value_counts()"
   ],
   "id": "38b98e55b91f6a06",
   "outputs": [
    {
     "data": {
      "text/plain": [
       "sentiment_encoded\n",
       "1    25000\n",
       "0    25000\n",
       "Name: count, dtype: int64"
      ]
     },
     "execution_count": 17,
     "metadata": {},
     "output_type": "execute_result"
    }
   ],
   "execution_count": 17
  },
  {
   "metadata": {
    "ExecuteTime": {
     "end_time": "2024-10-07T12:55:59.894018Z",
     "start_time": "2024-10-07T12:55:59.678906Z"
    }
   },
   "cell_type": "code",
   "source": [
    "import matplotlib.pyplot as plt\n",
    "\n",
    "# Plot distribution of sentiment labels\n",
    "df['sentiment_encoded'].value_counts().plot(kind='bar')\n",
    "\n",
    "plt.title('Distribution of Sentiment Labels')\n",
    "\n",
    "plt.xlabel('Sentiment')\n",
    "plt.ylabel('Count')\n",
    "plt.show()\n"
   ],
   "id": "bcd894e9beba9f0f",
   "outputs": [
    {
     "data": {
      "text/plain": [
       "<Figure size 640x480 with 1 Axes>"
      ],
      "image/png": "[encoded data removed]"
     },
     "metadata": {},
     "output_type": "display_data"
    }
   ],
   "execution_count": 18
  },
  {
   "metadata": {
    "ExecuteTime": {
     "end_time": "2024-10-07T12:56:01.162550Z",
     "start_time": "2024-10-07T12:56:01.107445Z"
    }
   },
   "cell_type": "code",
   "source": [
    "# Calculate the length of each cleaned review\n",
    "review_lengths = df['cleaned_review'].str.len()\n",
    "\n",
    "# Get a statistical summary of review lengths\n",
    "print(review_lengths.describe())\n"
   ],
   "id": "ca274f4b44c2dade",
   "outputs": [
    {
     "name": "stdout",
     "output_type": "stream",
     "text": [
      "count    50000.000000\n",
      "mean       822.966240\n",
      "std        634.332893\n",
      "min         17.000000\n",
      "25%        432.000000\n",
      "50%        605.000000\n",
      "75%       1000.000000\n",
      "max       9221.000000\n",
      "Name: cleaned_review, dtype: float64\n"
     ]
    }
   ],
   "execution_count": 19
  },
  {
   "metadata": {
    "ExecuteTime": {
     "end_time": "2024-10-07T12:56:02.213359Z",
     "start_time": "2024-10-07T12:56:02.156757Z"
    }
   },
   "cell_type": "code",
   "source": [
    "# Set the maximum length for reviews\n",
    "MAX_LENGTH = 1500\n",
    "\n",
    "# Truncate reviews longer than MAX_LENGTH\n",
    "df['cleaned_review'] = df['cleaned_review'].apply(lambda x: x[:MAX_LENGTH])\n"
   ],
   "id": "df763240f39782b4",
   "outputs": [],
   "execution_count": 20
  },
  {
   "metadata": {
    "ExecuteTime": {
     "end_time": "2024-10-07T12:56:03.062766Z",
     "start_time": "2024-10-07T12:56:03.020696Z"
    }
   },
   "cell_type": "code",
   "source": [
    "# Set the minimum length for reviews\n",
    "MIN_LENGTH = 700\n",
    "\n",
    "# Pad reviews shorter than MIN_LENGTH\n",
    "df['cleaned_review'] = df['cleaned_review'].apply(lambda x: x.ljust(MIN_LENGTH))\n"
   ],
   "id": "4d13d0779c7d0293",
   "outputs": [],
   "execution_count": 21
  },
  {
   "metadata": {
    "ExecuteTime": {
     "end_time": "2024-10-07T12:56:04.090288Z",
     "start_time": "2024-10-07T12:56:03.982046Z"
    }
   },
   "cell_type": "code",
   "source": [
    "print(df['cleaned_review'].apply(len).describe())\n",
    "\n",
    "# Sample of truncated reviews\n",
    "df[df['cleaned_review'].str.len() == MIN_LENGTH].sample(5)['cleaned_review']\n"
   ],
   "id": "590a429604021a6b",
   "outputs": [
    {
     "name": "stdout",
     "output_type": "stream",
     "text": [
      "count    50000.000000\n",
      "mean       884.919040\n",
      "std        289.874785\n",
      "min        700.000000\n",
      "25%        700.000000\n",
      "50%        700.000000\n",
      "75%       1000.000000\n",
      "max       1500.000000\n",
      "Name: cleaned_review, dtype: float64\n"
     ]
    },
    {
     "data": {
      "text/plain": [
       "3074     ever write movie make would want one like one ...\n",
       "44506    found film rather brilliant initially wanted a...\n",
       "11963    film deal irish rebellion 1920s specifically o...\n",
       "26376    didnt know expect film well know truly awful f...\n",
       "19200    cliche romance drama movie simple plot good ci...\n",
       "Name: cleaned_review, dtype: object"
      ]
     },
     "execution_count": 22,
     "metadata": {},
     "output_type": "execute_result"
    }
   ],
   "execution_count": 22
  },
  {
   "metadata": {
    "ExecuteTime": {
     "end_time": "2024-10-07T12:56:05.746748Z",
     "start_time": "2024-10-07T12:56:05.501131Z"
    }
   },
   "cell_type": "code",
   "source": [
    "import matplotlib.pyplot as plt\n",
    "\n",
    "plt.hist(df['cleaned_review'].apply(len), bins=50)\n",
    "plt.title('Distribution of Review Lengths')\n",
    "plt.xlabel('Length')\n",
    "plt.ylabel('Frequency')\n",
    "plt.show()\n"
   ],
   "id": "b64a62903ca26c29",
   "outputs": [
    {
     "data": {
      "text/plain": [
       "<Figure size 640x480 with 1 Axes>"
      ],
      "image/png": "[encoded data removed]"
     },
     "metadata": {},
     "output_type": "display_data"
    }
   ],
   "execution_count": 23
  },
  {
   "metadata": {
    "ExecuteTime": {
     "end_time": "2024-10-07T13:09:19.680778Z",
     "start_time": "2024-10-07T13:07:18.779201Z"
    }
   },
   "cell_type": "code",
   "source": [
    "from sklearn.feature_extraction.text import TfidfVectorizer\n",
    "\n",
    "vectorizer = TfidfVectorizer(max_features=25000, min_df=5, ngram_range=(1, 3))\n",
    "\n",
    "matrix = vectorizer.fit_transform(df['cleaned_review'])"
   ],
   "id": "7ae11fae22d5d84c",
   "outputs": [],
   "execution_count": 51
  },
  {
   "metadata": {
    "ExecuteTime": {
     "end_time": "2024-10-07T13:09:40.832365Z",
     "start_time": "2024-10-07T13:09:27.232724Z"
    }
   },
   "cell_type": "code",
   "source": [
    "# Convert the matrix to a DataFrame for better readability\n",
    "tfidf_df = pd.DataFrame(matrix.toarray(), columns=vectorizer.get_feature_names_out())\n",
    "\n",
    "print(tfidf_df.shape)"
   ],
   "id": "f2a1c742916d4e4",
   "outputs": [
    {
     "name": "stdout",
     "output_type": "stream",
     "text": [
      "(50000, 25000)\n"
     ]
    }
   ],
   "execution_count": 52
  },
  {
   "metadata": {},
   "cell_type": "markdown",
   "source": "Splitting the data",
   "id": "aeeec897db62a7c"
  },
  {
   "metadata": {
    "ExecuteTime": {
     "end_time": "2024-10-07T13:09:43.913575Z",
     "start_time": "2024-10-07T13:09:43.891484Z"
    }
   },
   "cell_type": "code",
   "source": [
    "from sklearn.model_selection import train_test_split\n",
    "\n",
    "# Features and labels\n",
    "X = matrix  \n",
    "y = df['sentiment']\n"
   ],
   "id": "4a92402dcfe45c9b",
   "outputs": [],
   "execution_count": 53
  },
  {
   "metadata": {
    "ExecuteTime": {
     "end_time": "2024-10-07T13:09:45.971367Z",
     "start_time": "2024-10-07T13:09:45.855672Z"
    }
   },
   "cell_type": "code",
   "source": [
    "# Split the data into training and testing sets\n",
    "X_train, X_test, y_train, y_test = train_test_split(X, y, test_size=0.2, random_state=42)\n"
   ],
   "id": "18fb094d8e82fd6",
   "outputs": [],
   "execution_count": 54
  },
  {
   "metadata": {
    "ExecuteTime": {
     "end_time": "2024-10-07T13:09:47.101562Z",
     "start_time": "2024-10-07T13:09:47.091336Z"
    }
   },
   "cell_type": "code",
   "source": [
    "# Verify the split\n",
    "print(f\"Training set size: {X_train.shape}, {y_train.shape}\")\n",
    "print(f\"Testing set size: {X_test.shape}, {y_test.shape}\")\n"
   ],
   "id": "706459a76800dcde",
   "outputs": [
    {
     "name": "stdout",
     "output_type": "stream",
     "text": [
      "Training set size: (40000, 25000), (40000,)\n",
      "Testing set size: (10000, 25000), (10000,)\n"
     ]
    }
   ],
   "execution_count": 55
  },
  {
   "metadata": {
    "ExecuteTime": {
     "end_time": "2024-10-07T13:09:48.426323Z",
     "start_time": "2024-10-07T13:09:48.412745Z"
    }
   },
   "cell_type": "code",
   "source": [
    "# Review some sample data from the training set\n",
    "print(\"Sample of cleaned reviews from training data:\")\n",
    "for i in range(5):  # Displaying first 5 samples\n",
    "    print(f\"Review {i+1}:\")\n",
    "    print(X_train[i])  # Print the feature vector\n",
    "    print(\"Sentiment:\", y_train.iloc[i])\n",
    "    print()\n"
   ],
   "id": "3eda0bce43bf6190",
   "outputs": [
    {
     "name": "stdout",
     "output_type": "stream",
     "text": [
      "Sample of cleaned reviews from training data:\n",
      "Review 1:\n",
      "<Compressed Sparse Row sparse matrix of dtype 'float64'\n",
      "\twith 198 stored elements and shape (1, 25000)>\n",
      "  Coords\tValues\n",
      "  (0, 15752)\t0.039974250961907556\n",
      "  (0, 9076)\t0.049069175261378405\n",
      "  (0, 4991)\t0.04849606378866199\n",
      "  (0, 15100)\t0.03384215128552151\n",
      "  (0, 1617)\t0.045362643098825636\n",
      "  (0, 14989)\t0.06986720574039627\n",
      "  (0, 8851)\t0.05499974832073399\n",
      "  (0, 24015)\t0.029424739640508984\n",
      "  (0, 11886)\t0.05170889277533071\n",
      "  (0, 12592)\t0.03455188992516672\n",
      "  (0, 9032)\t0.03663156656357349\n",
      "  (0, 24753)\t0.05082704688547305\n",
      "  (0, 17962)\t0.028651743837741987\n",
      "  (0, 5740)\t0.08492273316228664\n",
      "  (0, 22226)\t0.040272939070826914\n",
      "  (0, 22350)\t0.02481252346520153\n",
      "  (0, 16939)\t0.03328150390705826\n",
      "  (0, 5326)\t0.05008635066328553\n",
      "  (0, 3382)\t0.02721637904564077\n",
      "  (0, 13543)\t0.06767928335981409\n",
      "  (0, 13396)\t0.10044570890535849\n",
      "  (0, 10602)\t0.05226452425684776\n",
      "  (0, 10725)\t0.05858675237581911\n",
      "  (0, 8565)\t0.04214773250333443\n",
      "  (0, 22090)\t0.03209787227051467\n",
      "  :\t:\n",
      "  (0, 8920)\t0.10350169253479727\n",
      "  (0, 345)\t0.09528394987179467\n",
      "  (0, 12147)\t0.09873484456289204\n",
      "  (0, 5861)\t0.10494423578727473\n",
      "  (0, 18142)\t0.09945552659348063\n",
      "  (0, 1875)\t0.09096565979467977\n",
      "  (0, 21775)\t0.10844475636238635\n",
      "  (0, 16010)\t0.08465163309037115\n",
      "  (0, 13417)\t0.08543992119697603\n",
      "  (0, 20342)\t0.10251871420773005\n",
      "  (0, 3119)\t0.09945552659348063\n",
      "  (0, 5752)\t0.09243497676289976\n",
      "  (0, 11732)\t0.09047114531645112\n",
      "  (0, 14897)\t0.10131699552271754\n",
      "  (0, 18317)\t0.08496105973499582\n",
      "  (0, 15341)\t0.08672324860034775\n",
      "  (0, 3447)\t0.09493369115528073\n",
      "  (0, 9468)\t0.09970520807853306\n",
      "  (0, 10185)\t0.10160685893150322\n",
      "  (0, 923)\t0.09995993397372228\n",
      "  (0, 5753)\t0.09761831878962175\n",
      "  (0, 4810)\t0.10456783461277672\n",
      "  (0, 4023)\t0.10533222033692706\n",
      "  (0, 267)\t0.10251871420773005\n",
      "  (0, 16011)\t0.10573252389387962\n",
      "Sentiment: negative\n",
      "\n",
      "Review 2:\n",
      "<Compressed Sparse Row sparse matrix of dtype 'float64'\n",
      "\twith 126 stored elements and shape (1, 25000)>\n",
      "  Coords\tValues\n",
      "  (0, 15752)\t0.01833718727710079\n",
      "  (0, 23873)\t0.06819353466587234\n",
      "  (0, 18634)\t0.03778540266268431\n",
      "  (0, 19173)\t0.11131720292412325\n",
      "  (0, 19757)\t0.038830935697035975\n",
      "  (0, 15100)\t0.031048480011492473\n",
      "  (0, 1617)\t0.08323590930372797\n",
      "  (0, 8851)\t0.025229758178878\n",
      "  (0, 11886)\t0.047440321101517184\n",
      "  (0, 9032)\t0.0336076289194226\n",
      "  (0, 6550)\t0.09428179977258735\n",
      "  (0, 3999)\t0.11688335364785069\n",
      "  (0, 3952)\t0.03252761090474659\n",
      "  (0, 17846)\t0.04089219720524703\n",
      "  (0, 16939)\t0.030534114102042764\n",
      "  (0, 3382)\t0.12484832799995536\n",
      "  (0, 14188)\t0.08428628401334717\n",
      "  (0, 23859)\t0.06438530043126711\n",
      "  (0, 12345)\t0.020944427270928545\n",
      "  (0, 23810)\t0.08961797845292754\n",
      "  (0, 14754)\t0.048948303646006025\n",
      "  (0, 19575)\t0.03781221071737267\n",
      "  (0, 20225)\t0.04954935678110351\n",
      "  (0, 1207)\t0.035236328733582074\n",
      "  (0, 3188)\t0.04562635077754417\n",
      "  :\t:\n",
      "  (0, 21378)\t0.0621106150892074\n",
      "  (0, 9816)\t0.0672195604423003\n",
      "  (0, 19352)\t0.09434865730277513\n",
      "  (0, 5263)\t0.06514373113899041\n",
      "  (0, 3265)\t0.0687034635063222\n",
      "  (0, 10940)\t0.06954085291050455\n",
      "  (0, 2099)\t0.07915831528718652\n",
      "  (0, 16989)\t0.09170823644597974\n",
      "  (0, 10896)\t0.08357269902112159\n",
      "  (0, 5542)\t0.07704927960760019\n",
      "  (0, 9049)\t0.09593575465779723\n",
      "  (0, 15635)\t0.07549632534236196\n",
      "  (0, 3462)\t0.08322736978232396\n",
      "  (0, 2014)\t0.08235392330063401\n",
      "  (0, 2638)\t0.08725646682695161\n",
      "  (0, 5264)\t0.09269331390661184\n",
      "  (0, 3415)\t0.09434865730277513\n",
      "  (0, 23818)\t0.19476720128862304\n",
      "  (0, 19180)\t0.08917429698928166\n",
      "  (0, 4218)\t0.09349140070535245\n",
      "  (0, 14755)\t0.09996485170242489\n",
      "  (0, 16223)\t0.0940557892442376\n",
      "  (0, 4377)\t0.5075474942156303\n",
      "  (0, 18803)\t0.20091433459050947\n",
      "  (0, 22166)\t0.09663704030235097\n",
      "Sentiment: negative\n",
      "\n",
      "Review 3:\n",
      "<Compressed Sparse Row sparse matrix of dtype 'float64'\n",
      "\twith 44 stored elements and shape (1, 25000)>\n",
      "  Coords\tValues\n",
      "  (0, 8352)\t0.13106831216210146\n",
      "  (0, 7141)\t0.10461058219652161\n",
      "  (0, 24015)\t0.06334665047227812\n",
      "  (0, 19459)\t0.05877981589393276\n",
      "  (0, 21485)\t0.16121567918663696\n",
      "  (0, 12887)\t0.1489240554577204\n",
      "  (0, 24811)\t0.07403106311078272\n",
      "  (0, 16510)\t0.06652779599638291\n",
      "  (0, 9248)\t0.055283516990587096\n",
      "  (0, 21065)\t0.2398671806927986\n",
      "  (0, 2027)\t0.10147321101058185\n",
      "  (0, 14762)\t0.063601253888819\n",
      "  (0, 7436)\t0.10993330501047503\n",
      "  (0, 144)\t0.1289552422617678\n",
      "  (0, 23316)\t0.1034486692307417\n",
      "  (0, 14749)\t0.1252470468992572\n",
      "  (0, 23669)\t0.07927725733413625\n",
      "  (0, 7349)\t0.10877758734484234\n",
      "  (0, 23174)\t0.17884368291553973\n",
      "  (0, 10568)\t0.12352923737695647\n",
      "  (0, 12921)\t0.14428444087717876\n",
      "  (0, 13484)\t0.14788581292989764\n",
      "  (0, 14039)\t0.15371181679250354\n",
      "  (0, 14127)\t0.1455317067231014\n",
      "  (0, 21262)\t0.13077029587557146\n",
      "  (0, 14120)\t0.13997275815407015\n",
      "  (0, 21163)\t0.20794822008571595\n",
      "  (0, 22667)\t0.1431308939956933\n",
      "  (0, 18346)\t0.1669336280866256\n",
      "  (0, 5932)\t0.17443226192558464\n",
      "  (0, 1605)\t0.17443226192558464\n",
      "  (0, 6347)\t0.1274281274355884\n",
      "  (0, 19671)\t0.19374514939425194\n",
      "  (0, 10081)\t0.16547587948406656\n",
      "  (0, 14752)\t0.21938165695877107\n",
      "  (0, 21739)\t0.14747139199302925\n",
      "  (0, 148)\t0.162615969000274\n",
      "  (0, 6146)\t0.18411386233450142\n",
      "  (0, 4079)\t0.1897771648908053\n",
      "  (0, 17021)\t0.18191407615596863\n",
      "  (0, 3633)\t0.16159745825241398\n",
      "  (0, 5443)\t0.18670096605863065\n",
      "  (0, 24046)\t0.20155400425669387\n",
      "  (0, 21094)\t0.2285148741892493\n",
      "Sentiment: positive\n",
      "\n",
      "Review 4:\n",
      "<Compressed Sparse Row sparse matrix of dtype 'float64'\n",
      "\twith 86 stored elements and shape (1, 25000)>\n",
      "  Coords\tValues\n",
      "  (0, 19980)\t0.04992731227005637\n",
      "  (0, 7141)\t0.06972028576732922\n",
      "  (0, 4984)\t0.1020657304614955\n",
      "  (0, 19087)\t0.048446309917055654\n",
      "  (0, 6792)\t0.04950544086429393\n",
      "  (0, 2414)\t0.12846828187061482\n",
      "  (0, 2053)\t0.07356040802639811\n",
      "  (0, 23904)\t0.04416393167002287\n",
      "  (0, 16041)\t0.1015113209882446\n",
      "  (0, 5050)\t0.09136143489519011\n",
      "  (0, 7531)\t0.02822992040519994\n",
      "  (0, 22660)\t0.07445160452128784\n",
      "  (0, 21944)\t0.07850273211663088\n",
      "  (0, 3188)\t0.07135557666171446\n",
      "  (0, 7127)\t0.06970773142032949\n",
      "  (0, 930)\t0.04399652158640486\n",
      "  (0, 3036)\t0.05664247211371419\n",
      "  (0, 6377)\t0.04892729416582088\n",
      "  (0, 10678)\t0.05379725020059956\n",
      "  (0, 20899)\t0.08098121111210697\n",
      "  (0, 6203)\t0.06300467928071175\n",
      "  (0, 23463)\t0.08663583406679244\n",
      "  (0, 6659)\t0.0782293141167166\n",
      "  (0, 19353)\t0.060568422047318896\n",
      "  (0, 21050)\t0.07775321260537302\n",
      "  :\t:\n",
      "  (0, 16690)\t0.11633707348266331\n",
      "  (0, 5864)\t0.15633618550620437\n",
      "  (0, 811)\t0.10875574260080245\n",
      "  (0, 23182)\t0.10447070147296346\n",
      "  (0, 13759)\t0.10024620512192539\n",
      "  (0, 107)\t0.12692111619788463\n",
      "  (0, 17754)\t0.10283240507204912\n",
      "  (0, 5008)\t0.12830747358245068\n",
      "  (0, 13708)\t0.13776345484648664\n",
      "  (0, 4172)\t0.14951062601123563\n",
      "  (0, 4079)\t0.1264816416320495\n",
      "  (0, 8723)\t0.14379658927286632\n",
      "  (0, 7914)\t0.11221780673022605\n",
      "  (0, 10360)\t0.14234855159227092\n",
      "  (0, 16042)\t0.1522993371801491\n",
      "  (0, 18444)\t0.1179788937247667\n",
      "  (0, 24258)\t0.1208128885551232\n",
      "  (0, 19106)\t0.12846828187061482\n",
      "  (0, 10718)\t0.12102572410765049\n",
      "  (0, 9972)\t0.15170614261729906\n",
      "  (0, 12524)\t0.13433060479414333\n",
      "  (0, 19355)\t0.14537069584901266\n",
      "  (0, 19456)\t0.14496414360946208\n",
      "  (0, 20031)\t0.1522993371801491\n",
      "  (0, 2727)\t0.1413338475229574\n",
      "Sentiment: negative\n",
      "\n",
      "Review 5:\n",
      "<Compressed Sparse Row sparse matrix of dtype 'float64'\n",
      "\twith 148 stored elements and shape (1, 25000)>\n",
      "  Coords\tValues\n",
      "  (0, 15752)\t0.01948708867111849\n",
      "  (0, 6932)\t0.10883136193722694\n",
      "  (0, 8144)\t0.02993774841801403\n",
      "  (0, 22002)\t0.030495563466643755\n",
      "  (0, 19980)\t0.03392659254733611\n",
      "  (0, 19087)\t0.03292022226407062\n",
      "  (0, 13129)\t0.044569351980433436\n",
      "  (0, 6792)\t0.03363992261378838\n",
      "  (0, 8851)\t0.053623767631652365\n",
      "  (0, 24015)\t0.057377186233766635\n",
      "  (0, 9517)\t0.029977059773321782\n",
      "  (0, 3999)\t0.08280863879844667\n",
      "  (0, 17962)\t0.05586987216148774\n",
      "  (0, 3952)\t0.034567375485770546\n",
      "  (0, 22350)\t0.024191765113065013\n",
      "  (0, 3382)\t0.026535481166342485\n",
      "  (0, 17957)\t0.059937428948550295\n",
      "  (0, 13396)\t0.03264425455505222\n",
      "  (0, 21955)\t0.04269573183488197\n",
      "  (0, 22090)\t0.03129484946125962\n",
      "  (0, 14188)\t0.23288659761814012\n",
      "  (0, 9201)\t0.038028339836167734\n",
      "  (0, 7531)\t0.01918278720974432\n",
      "  (0, 12345)\t0.022257825326573576\n",
      "  (0, 22660)\t0.05059133240392809\n",
      "  :\t:\n",
      "  (0, 4291)\t0.08686534926208553\n",
      "  (0, 17259)\t0.09517610904037284\n",
      "  (0, 18006)\t0.07808232434564101\n",
      "  (0, 17233)\t0.08971490136970818\n",
      "  (0, 22413)\t0.0969673536800878\n",
      "  (0, 13419)\t0.07684952224439356\n",
      "  (0, 9205)\t0.09012244358038862\n",
      "  (0, 46)\t0.08126099096673073\n",
      "  (0, 22109)\t0.10091229286364539\n",
      "  (0, 20871)\t0.08893823908025407\n",
      "  (0, 8968)\t0.09850599222344611\n",
      "  (0, 21956)\t0.0993541260173202\n",
      "  (0, 24086)\t0.09797142695356215\n",
      "  (0, 20181)\t0.0993541260173202\n",
      "  (0, 14474)\t0.08403774252916778\n",
      "  (0, 262)\t0.09325139553612716\n",
      "  (0, 15365)\t0.38983656729654376\n",
      "  (0, 11782)\t0.08481989728909786\n",
      "  (0, 24026)\t0.0929001412361907\n",
      "  (0, 13937)\t0.09517610904037284\n",
      "  (0, 22076)\t0.09417612187766654\n",
      "  (0, 15183)\t0.09581763185090124\n",
      "  (0, 6414)\t0.09965035876431771\n",
      "  (0, 7533)\t0.10231874664809476\n",
      "  (0, 8658)\t0.1012491102105045\n",
      "Sentiment: negative\n",
      "\n"
     ]
    }
   ],
   "execution_count": 56
  },
  {
   "metadata": {
    "ExecuteTime": {
     "end_time": "2024-10-07T13:09:50.598925Z",
     "start_time": "2024-10-07T13:09:50.589393Z"
    }
   },
   "cell_type": "code",
   "source": [
    "# Review some sample text data (not the vectorized form)\n",
    "print(\"Sample of cleaned reviews from training data:\")\n",
    "for i in range(5):  # Displaying first 5 samples\n",
    "    print(f\"Review {i+1}:\")\n",
    "    print(df.iloc[y_train.index[i]]['cleaned_review'])  # Print the actual text review\n",
    "    print(\"Sentiment:\", y_train.iloc[i])\n",
    "    print()\n"
   ],
   "id": "3cdfe4da475e8d3b",
   "outputs": [
    {
     "name": "stdout",
     "output_type": "stream",
     "text": [
      "Sample of cleaned reviews from training data:\n",
      "Review 1:\n",
      "thats kept asking many fight screaming match swearing general mayhem permeate 84 minute comparison also stand think onedimensional character little depth virtually impossible care happens badly written cypher director hang multicultural belief topic done much better drama tv cinema must confess im really one spotting bad performance film must said nichola burley heroine slutty best friend wasim zakir nasty bullying brother absolutely terrible dont know acting school graduated id apply full refund post haste samina awan lead role manages impress cast socalled british talent well probably never not_hear least thats hope next time hire different scout another intriguing thought hideously fashionable soundtrack featuring like snow patrol ian brown keane im bit music fan im familiar artist output didnt recognise track movie apart omnipresent run bsides anyone get many many musical montage telegraph suppose feel accompanied startlingly original image couple kissing swollen lake canoodling doorway problem none not_song convey mood efficiently realise director lack ability carry emotional journey audience storytelling dialogue alone ending presumably meant dessert everybody get comeuppance least one big shock store remained resolutely unmoved script given noone root enough tackle hotbutton issue actually give u plot hasnt already done death individual window dressing stand film noble failure promising lead actress mildly diverting punchups save bin 410 must try harder\n",
      "Sentiment: negative\n",
      "\n",
      "Review 2:\n",
      "watch entire movie could watch entire movie stopped dvd watching half hour suggest anyone thinking watching stop taking disc case like mafia movie tragic comic corky romano described tragic attempt mafia comedy problem corky romano simply try hard get audience laugh plot seems excuse moving chris kattan corky one scene another corky completely overplayed lack subtlety credulity strange mannerism come across contrived chris kattan clearly acting rather taking role bounce right story scene utterly predictable comedic event occur set obvious soon scene introduced comedy mr bean disaster caused title character funny empathise character motivation initial event situation character end telegraphed corky however give feeling deliberately screwing desperate attempt draw laugh audience chris played alien character never not_really connects character movie whose behaviour entirely inexplicable except trying draw laugh comedy scene werent predictable stereotyped joke seemed far familiar movie could watchable isnt dont watch\n",
      "Sentiment: negative\n",
      "\n",
      "Review 3:\n",
      "touching love story reminiscent mood love drawing heavily chinese poetry used eastern people communicate feeling story focus schoolteacher want much model teacher well good husband father senior student attracted story unfolds see emotion surface 20 year marriage grapple moral dilemma face beautiful moving story                                                                                                                                                                                                                                                                                                                                                                                                   \n",
      "Sentiment: positive\n",
      "\n",
      "Review 4:\n",
      "latterday fulci schlocker totally abysmal concoction dealing incurable gambler brett halsey decides bluebeardstyle pay everrising debt seducing ugliest bitch ever lay eye happen wealthy widow fulcipenned script also contrives incorporate blackly comedic element result unfunny business involving corpse wont stay put opera singer victim wont stop singing etc mention doppelganger theme straight student prague although case two persona communicate via prerecorded radio message end cant say im surprised film show sign sophistication mario bavas hatchet honeymoon 1970 resembles several way content merely pile disgustingly gory nonetooconvincing effect dismembered limb squashed melting face ala fulci become completely associated\n",
      "Sentiment: negative\n",
      "\n",
      "Review 5:\n",
      "first firmly believe norwegian movie continually getting better tedious emotional film 70 80 movie place actually started contain bit humour imagine actual comedy made movie actually starting get entertaining funny opposed long dark depressing boring 90 00s several really great movie made new generation filmmaker movie movie praised critic played load money became norm came united minor spoiler simply funny ever thing think funny used norwegian movie funny especially cast like really funny comedian neither not_say anything funny wheres humor show humor awkward clerk played harald eia overacting totally ridiculously unrealistic football coach commentary arne scheie movie funny thats main rant united namely predictability fear norwegian comedy come standstill since seen many movie well time know going end well character exactly presented start movie everybody get exactly deserve end there absolutely room surprise say sat bad feeling seeing movie one movie made realize probably need new blood norwegian movie making rating 16\n",
      "Sentiment: negative\n",
      "\n"
     ]
    }
   ],
   "execution_count": 57
  },
  {
   "metadata": {
    "ExecuteTime": {
     "end_time": "2024-10-07T13:09:52.805529Z",
     "start_time": "2024-10-07T13:09:52.101803Z"
    }
   },
   "cell_type": "code",
   "source": [
    "# To understand what words are associated with high values in the vector\n",
    "feature_names = vectorizer.get_feature_names_out()  # Get feature names\n",
    "dense = X_train[0].todense()  # Take the first sample and convert to dense matrix\n",
    "denselist = dense.tolist()  # Convert to list\n",
    "df_tfidf = pd.DataFrame(denselist, columns=feature_names)  # Create DataFrame\n",
    "\n",
    "# Sort words by their TF-IDF score for the first review\n",
    "sorted_words = df_tfidf.iloc[0].sort_values(ascending=False)\n",
    "print(\"Top words in the first review:\")\n",
    "print(sorted_words.head(20))  # Show top 20 words\n"
   ],
   "id": "f7104b3cfbc32992",
   "outputs": [
    {
     "name": "stdout",
     "output_type": "stream",
     "text": [
      "Top words in the first review:\n",
      "must                        0.125242\n",
      "im                          0.112483\n",
      "stand                       0.110279\n",
      "telegraph                   0.108445\n",
      "onedimensional character    0.105733\n",
      "comeuppance                 0.105332\n",
      "doorway                     0.104944\n",
      "cypher                      0.104568\n",
      "get many                    0.103502\n",
      "84                          0.102519\n",
      "slutty                      0.102519\n",
      "fashionable                 0.102207\n",
      "hideously                   0.101607\n",
      "must confess                0.101317\n",
      "dessert                     0.100757\n",
      "done death                  0.100485\n",
      "many                        0.100446\n",
      "bullying                    0.099960\n",
      "patrol                      0.099960\n",
      "already done                0.099960\n",
      "Name: 0, dtype: float64\n"
     ]
    }
   ],
   "execution_count": 58
  },
  {
   "metadata": {},
   "cell_type": "markdown",
   "source": "Initializing Naive Bayes model",
   "id": "e52f186bae3214ed"
  },
  {
   "metadata": {
    "ExecuteTime": {
     "end_time": "2024-10-07T13:12:32.143880Z",
     "start_time": "2024-10-07T13:12:32.126688Z"
    }
   },
   "cell_type": "code",
   "source": [
    "from sklearn.naive_bayes import MultinomialNB\n",
    "from sklearn.metrics import accuracy_score\n",
    "\n",
    "model = MultinomialNB()"
   ],
   "id": "d160625d7e4d252e",
   "outputs": [],
   "execution_count": 59
  },
  {
   "metadata": {
    "ExecuteTime": {
     "end_time": "2024-10-07T13:12:33.720955Z",
     "start_time": "2024-10-07T13:12:33.548587Z"
    }
   },
   "cell_type": "code",
   "source": [
    "# Train the model\n",
    "model.fit(X_train, y_train)\n"
   ],
   "id": "847bd658b8a6cc3a",
   "outputs": [
    {
     "data": {
      "text/plain": [
       "MultinomialNB()"
      ],
      "text/html": [
       "<style>#sk-container-id-2 {\n",
       "  /* Definition of color scheme common for light and dark mode */\n",
       "  --sklearn-color-text: black;\n",
       "  --sklearn-color-line: gray;\n",
       "  /* Definition of color scheme for unfitted estimators */\n",
       "  --sklearn-color-unfitted-level-0: #fff5e6;\n",
       "  --sklearn-color-unfitted-level-1: #f6e4d2;\n",
       "  --sklearn-color-unfitted-level-2: #ffe0b3;\n",
       "  --sklearn-color-unfitted-level-3: chocolate;\n",
       "  /* Definition of color scheme for fitted estimators */\n",
       "  --sklearn-color-fitted-level-0: #f0f8ff;\n",
       "  --sklearn-color-fitted-level-1: #d4ebff;\n",
       "  --sklearn-color-fitted-level-2: #b3dbfd;\n",
       "  --sklearn-color-fitted-level-3: cornflowerblue;\n",
       "\n",
       "  /* Specific color for light theme */\n",
       "  --sklearn-color-text-on-default-background: var(--sg-text-color, var(--theme-code-foreground, var(--jp-content-font-color1, black)));\n",
       "  --sklearn-color-background: var(--sg-background-color, var(--theme-background, var(--jp-layout-color0, white)));\n",
       "  --sklearn-color-border-box: var(--sg-text-color, var(--theme-code-foreground, var(--jp-content-font-color1, black)));\n",
       "  --sklearn-color-icon: #696969;\n",
       "\n",
       "  @media (prefers-color-scheme: dark) {\n",
       "    /* Redefinition of color scheme for dark theme */\n",
       "    --sklearn-color-text-on-default-background: var(--sg-text-color, var(--theme-code-foreground, var(--jp-content-font-color1, white)));\n",
       "    --sklearn-color-background: var(--sg-background-color, var(--theme-background, var(--jp-layout-color0, #111)));\n",
       "    --sklearn-color-border-box: var(--sg-text-color, var(--theme-code-foreground, var(--jp-content-font-color1, white)));\n",
       "    --sklearn-color-icon: #878787;\n",
       "  }\n",
       "}\n",
       "\n",
       "#sk-container-id-2 {\n",
       "  color: var(--sklearn-color-text);\n",
       "}\n",
       "\n",
       "#sk-container-id-2 pre {\n",
       "  padding: 0;\n",
       "}\n",
       "\n",
       "#sk-container-id-2 input.sk-hidden--visually {\n",
       "  border: 0;\n",
       "  clip: rect(1px 1px 1px 1px);\n",
       "  clip: rect(1px, 1px, 1px, 1px);\n",
       "  height: 1px;\n",
       "  margin: -1px;\n",
       "  overflow: hidden;\n",
       "  padding: 0;\n",
       "  position: absolute;\n",
       "  width: 1px;\n",
       "}\n",
       "\n",
       "#sk-container-id-2 div.sk-dashed-wrapped {\n",
       "  border: 1px dashed var(--sklearn-color-line);\n",
       "  margin: 0 0.4em 0.5em 0.4em;\n",
       "  box-sizing: border-box;\n",
       "  padding-bottom: 0.4em;\n",
       "  background-color: var(--sklearn-color-background);\n",
       "}\n",
       "\n",
       "#sk-container-id-2 div.sk-container {\n",
       "  /* jupyter's `normalize.less` sets `[hidden] { display: none; }`\n",
       "     but bootstrap.min.css set `[hidden] { display: none !important; }`\n",
       "     so we also need the `!important` here to be able to override the\n",
       "     default hidden behavior on the sphinx rendered scikit-learn.org.\n",
       "     See: https://github.com/scikit-learn/scikit-learn/issues/21755 */\n",
       "  display: inline-block !important;\n",
       "  position: relative;\n",
       "}\n",
       "\n",
       "#sk-container-id-2 div.sk-text-repr-fallback {\n",
       "  display: none;\n",
       "}\n",
       "\n",
       "div.sk-parallel-item,\n",
       "div.sk-serial,\n",
       "div.sk-item {\n",
       "  /* draw centered vertical line to link estimators */\n",
       "  background-image: linear-gradient(var(--sklearn-color-text-on-default-background), var(--sklearn-color-text-on-default-background));\n",
       "  background-size: 2px 100%;\n",
       "  background-repeat: no-repeat;\n",
       "  background-position: center center;\n",
       "}\n",
       "\n",
       "/* Parallel-specific style estimator block */\n",
       "\n",
       "#sk-container-id-2 div.sk-parallel-item::after {\n",
       "  content: \"\";\n",
       "  width: 100%;\n",
       "  border-bottom: 2px solid var(--sklearn-color-text-on-default-background);\n",
       "  flex-grow: 1;\n",
       "}\n",
       "\n",
       "#sk-container-id-2 div.sk-parallel {\n",
       "  display: flex;\n",
       "  align-items: stretch;\n",
       "  justify-content: center;\n",
       "  background-color: var(--sklearn-color-background);\n",
       "  position: relative;\n",
       "}\n",
       "\n",
       "#sk-container-id-2 div.sk-parallel-item {\n",
       "  display: flex;\n",
       "  flex-direction: column;\n",
       "}\n",
       "\n",
       "#sk-container-id-2 div.sk-parallel-item:first-child::after {\n",
       "  align-self: flex-end;\n",
       "  width: 50%;\n",
       "}\n",
       "\n",
       "#sk-container-id-2 div.sk-parallel-item:last-child::after {\n",
       "  align-self: flex-start;\n",
       "  width: 50%;\n",
       "}\n",
       "\n",
       "#sk-container-id-2 div.sk-parallel-item:only-child::after {\n",
       "  width: 0;\n",
       "}\n",
       "\n",
       "/* Serial-specific style estimator block */\n",
       "\n",
       "#sk-container-id-2 div.sk-serial {\n",
       "  display: flex;\n",
       "  flex-direction: column;\n",
       "  align-items: center;\n",
       "  background-color: var(--sklearn-color-background);\n",
       "  padding-right: 1em;\n",
       "  padding-left: 1em;\n",
       "}\n",
       "\n",
       "\n",
       "/* Toggleable style: style used for estimator/Pipeline/ColumnTransformer box that is\n",
       "clickable and can be expanded/collapsed.\n",
       "- Pipeline and ColumnTransformer use this feature and define the default style\n",
       "- Estimators will overwrite some part of the style using the `sk-estimator` class\n",
       "*/\n",
       "\n",
       "/* Pipeline and ColumnTransformer style (default) */\n",
       "\n",
       "#sk-container-id-2 div.sk-toggleable {\n",
       "  /* Default theme specific background. It is overwritten whether we have a\n",
       "  specific estimator or a Pipeline/ColumnTransformer */\n",
       "  background-color: var(--sklearn-color-background);\n",
       "}\n",
       "\n",
       "/* Toggleable label */\n",
       "#sk-container-id-2 label.sk-toggleable__label {\n",
       "  cursor: pointer;\n",
       "  display: block;\n",
       "  width: 100%;\n",
       "  margin-bottom: 0;\n",
       "  padding: 0.5em;\n",
       "  box-sizing: border-box;\n",
       "  text-align: center;\n",
       "}\n",
       "\n",
       "#sk-container-id-2 label.sk-toggleable__label-arrow:before {\n",
       "  /* Arrow on the left of the label */\n",
       "  content: \"▸\";\n",
       "  float: left;\n",
       "  margin-right: 0.25em;\n",
       "  color: var(--sklearn-color-icon);\n",
       "}\n",
       "\n",
       "#sk-container-id-2 label.sk-toggleable__label-arrow:hover:before {\n",
       "  color: var(--sklearn-color-text);\n",
       "}\n",
       "\n",
       "/* Toggleable content - dropdown */\n",
       "\n",
       "#sk-container-id-2 div.sk-toggleable__content {\n",
       "  max-height: 0;\n",
       "  max-width: 0;\n",
       "  overflow: hidden;\n",
       "  text-align: left;\n",
       "  /* unfitted */\n",
       "  background-color: var(--sklearn-color-unfitted-level-0);\n",
       "}\n",
       "\n",
       "#sk-container-id-2 div.sk-toggleable__content.fitted {\n",
       "  /* fitted */\n",
       "  background-color: var(--sklearn-color-fitted-level-0);\n",
       "}\n",
       "\n",
       "#sk-container-id-2 div.sk-toggleable__content pre {\n",
       "  margin: 0.2em;\n",
       "  border-radius: 0.25em;\n",
       "  color: var(--sklearn-color-text);\n",
       "  /* unfitted */\n",
       "  background-color: var(--sklearn-color-unfitted-level-0);\n",
       "}\n",
       "\n",
       "#sk-container-id-2 div.sk-toggleable__content.fitted pre {\n",
       "  /* unfitted */\n",
       "  background-color: var(--sklearn-color-fitted-level-0);\n",
       "}\n",
       "\n",
       "#sk-container-id-2 input.sk-toggleable__control:checked~div.sk-toggleable__content {\n",
       "  /* Expand drop-down */\n",
       "  max-height: 200px;\n",
       "  max-width: 100%;\n",
       "  overflow: auto;\n",
       "}\n",
       "\n",
       "#sk-container-id-2 input.sk-toggleable__control:checked~label.sk-toggleable__label-arrow:before {\n",
       "  content: \"▾\";\n",
       "}\n",
       "\n",
       "/* Pipeline/ColumnTransformer-specific style */\n",
       "\n",
       "#sk-container-id-2 div.sk-label input.sk-toggleable__control:checked~label.sk-toggleable__label {\n",
       "  color: var(--sklearn-color-text);\n",
       "  background-color: var(--sklearn-color-unfitted-level-2);\n",
       "}\n",
       "\n",
       "#sk-container-id-2 div.sk-label.fitted input.sk-toggleable__control:checked~label.sk-toggleable__label {\n",
       "  background-color: var(--sklearn-color-fitted-level-2);\n",
       "}\n",
       "\n",
       "/* Estimator-specific style */\n",
       "\n",
       "/* Colorize estimator box */\n",
       "#sk-container-id-2 div.sk-estimator input.sk-toggleable__control:checked~label.sk-toggleable__label {\n",
       "  /* unfitted */\n",
       "  background-color: var(--sklearn-color-unfitted-level-2);\n",
       "}\n",
       "\n",
       "#sk-container-id-2 div.sk-estimator.fitted input.sk-toggleable__control:checked~label.sk-toggleable__label {\n",
       "  /* fitted */\n",
       "  background-color: var(--sklearn-color-fitted-level-2);\n",
       "}\n",
       "\n",
       "#sk-container-id-2 div.sk-label label.sk-toggleable__label,\n",
       "#sk-container-id-2 div.sk-label label {\n",
       "  /* The background is the default theme color */\n",
       "  color: var(--sklearn-color-text-on-default-background);\n",
       "}\n",
       "\n",
       "/* On hover, darken the color of the background */\n",
       "#sk-container-id-2 div.sk-label:hover label.sk-toggleable__label {\n",
       "  color: var(--sklearn-color-text);\n",
       "  background-color: var(--sklearn-color-unfitted-level-2);\n",
       "}\n",
       "\n",
       "/* Label box, darken color on hover, fitted */\n",
       "#sk-container-id-2 div.sk-label.fitted:hover label.sk-toggleable__label.fitted {\n",
       "  color: var(--sklearn-color-text);\n",
       "  background-color: var(--sklearn-color-fitted-level-2);\n",
       "}\n",
       "\n",
       "/* Estimator label */\n",
       "\n",
       "#sk-container-id-2 div.sk-label label {\n",
       "  font-family: monospace;\n",
       "  font-weight: bold;\n",
       "  display: inline-block;\n",
       "  line-height: 1.2em;\n",
       "}\n",
       "\n",
       "#sk-container-id-2 div.sk-label-container {\n",
       "  text-align: center;\n",
       "}\n",
       "\n",
       "/* Estimator-specific */\n",
       "#sk-container-id-2 div.sk-estimator {\n",
       "  font-family: monospace;\n",
       "  border: 1px dotted var(--sklearn-color-border-box);\n",
       "  border-radius: 0.25em;\n",
       "  box-sizing: border-box;\n",
       "  margin-bottom: 0.5em;\n",
       "  /* unfitted */\n",
       "  background-color: var(--sklearn-color-unfitted-level-0);\n",
       "}\n",
       "\n",
       "#sk-container-id-2 div.sk-estimator.fitted {\n",
       "  /* fitted */\n",
       "  background-color: var(--sklearn-color-fitted-level-0);\n",
       "}\n",
       "\n",
       "/* on hover */\n",
       "#sk-container-id-2 div.sk-estimator:hover {\n",
       "  /* unfitted */\n",
       "  background-color: var(--sklearn-color-unfitted-level-2);\n",
       "}\n",
       "\n",
       "#sk-container-id-2 div.sk-estimator.fitted:hover {\n",
       "  /* fitted */\n",
       "  background-color: var(--sklearn-color-fitted-level-2);\n",
       "}\n",
       "\n",
       "/* Specification for estimator info (e.g. \"i\" and \"?\") */\n",
       "\n",
       "/* Common style for \"i\" and \"?\" */\n",
       "\n",
       ".sk-estimator-doc-link,\n",
       "a:link.sk-estimator-doc-link,\n",
       "a:visited.sk-estimator-doc-link {\n",
       "  float: right;\n",
       "  font-size: smaller;\n",
       "  line-height: 1em;\n",
       "  font-family: monospace;\n",
       "  background-color: var(--sklearn-color-background);\n",
       "  border-radius: 1em;\n",
       "  height: 1em;\n",
       "  width: 1em;\n",
       "  text-decoration: none !important;\n",
       "  margin-left: 1ex;\n",
       "  /* unfitted */\n",
       "  border: var(--sklearn-color-unfitted-level-1) 1pt solid;\n",
       "  color: var(--sklearn-color-unfitted-level-1);\n",
       "}\n",
       "\n",
       ".sk-estimator-doc-link.fitted,\n",
       "a:link.sk-estimator-doc-link.fitted,\n",
       "a:visited.sk-estimator-doc-link.fitted {\n",
       "  /* fitted */\n",
       "  border: var(--sklearn-color-fitted-level-1) 1pt solid;\n",
       "  color: var(--sklearn-color-fitted-level-1);\n",
       "}\n",
       "\n",
       "/* On hover */\n",
       "div.sk-estimator:hover .sk-estimator-doc-link:hover,\n",
       ".sk-estimator-doc-link:hover,\n",
       "div.sk-label-container:hover .sk-estimator-doc-link:hover,\n",
       ".sk-estimator-doc-link:hover {\n",
       "  /* unfitted */\n",
       "  background-color: var(--sklearn-color-unfitted-level-3);\n",
       "  color: var(--sklearn-color-background);\n",
       "  text-decoration: none;\n",
       "}\n",
       "\n",
       "div.sk-estimator.fitted:hover .sk-estimator-doc-link.fitted:hover,\n",
       ".sk-estimator-doc-link.fitted:hover,\n",
       "div.sk-label-container:hover .sk-estimator-doc-link.fitted:hover,\n",
       ".sk-estimator-doc-link.fitted:hover {\n",
       "  /* fitted */\n",
       "  background-color: var(--sklearn-color-fitted-level-3);\n",
       "  color: var(--sklearn-color-background);\n",
       "  text-decoration: none;\n",
       "}\n",
       "\n",
       "/* Span, style for the box shown on hovering the info icon */\n",
       ".sk-estimator-doc-link span {\n",
       "  display: none;\n",
       "  z-index: 9999;\n",
       "  position: relative;\n",
       "  font-weight: normal;\n",
       "  right: .2ex;\n",
       "  padding: .5ex;\n",
       "  margin: .5ex;\n",
       "  width: min-content;\n",
       "  min-width: 20ex;\n",
       "  max-width: 50ex;\n",
       "  color: var(--sklearn-color-text);\n",
       "  box-shadow: 2pt 2pt 4pt #999;\n",
       "  /* unfitted */\n",
       "  background: var(--sklearn-color-unfitted-level-0);\n",
       "  border: .5pt solid var(--sklearn-color-unfitted-level-3);\n",
       "}\n",
       "\n",
       ".sk-estimator-doc-link.fitted span {\n",
       "  /* fitted */\n",
       "  background: var(--sklearn-color-fitted-level-0);\n",
       "  border: var(--sklearn-color-fitted-level-3);\n",
       "}\n",
       "\n",
       ".sk-estimator-doc-link:hover span {\n",
       "  display: block;\n",
       "}\n",
       "\n",
       "/* \"?\"-specific style due to the `<a>` HTML tag */\n",
       "\n",
       "#sk-container-id-2 a.estimator_doc_link {\n",
       "  float: right;\n",
       "  font-size: 1rem;\n",
       "  line-height: 1em;\n",
       "  font-family: monospace;\n",
       "  background-color: var(--sklearn-color-background);\n",
       "  border-radius: 1rem;\n",
       "  height: 1rem;\n",
       "  width: 1rem;\n",
       "  text-decoration: none;\n",
       "  /* unfitted */\n",
       "  color: var(--sklearn-color-unfitted-level-1);\n",
       "  border: var(--sklearn-color-unfitted-level-1) 1pt solid;\n",
       "}\n",
       "\n",
       "#sk-container-id-2 a.estimator_doc_link.fitted {\n",
       "  /* fitted */\n",
       "  border: var(--sklearn-color-fitted-level-1) 1pt solid;\n",
       "  color: var(--sklearn-color-fitted-level-1);\n",
       "}\n",
       "\n",
       "/* On hover */\n",
       "#sk-container-id-2 a.estimator_doc_link:hover {\n",
       "  /* unfitted */\n",
       "  background-color: var(--sklearn-color-unfitted-level-3);\n",
       "  color: var(--sklearn-color-background);\n",
       "  text-decoration: none;\n",
       "}\n",
       "\n",
       "#sk-container-id-2 a.estimator_doc_link.fitted:hover {\n",
       "  /* fitted */\n",
       "  background-color: var(--sklearn-color-fitted-level-3);\n",
       "}\n",
       "</style><div id=\"sk-container-id-2\" class=\"sk-top-container\"><div class=\"sk-text-repr-fallback\"><pre>MultinomialNB()</pre><b>In a Jupyter environment, please rerun this cell to show the HTML representation or trust the notebook. <br />On GitHub, the HTML representation is unable to render, please try loading this page with nbviewer.org.</b></div><div class=\"sk-container\" hidden><div class=\"sk-item\"><div class=\"sk-estimator fitted sk-toggleable\"><input class=\"sk-toggleable__control sk-hidden--visually\" id=\"sk-estimator-id-2\" type=\"checkbox\" checked><label for=\"sk-estimator-id-2\" class=\"sk-toggleable__label fitted sk-toggleable__label-arrow fitted\">&nbsp;&nbsp;MultinomialNB<a class=\"sk-estimator-doc-link fitted\" rel=\"noreferrer\" target=\"_blank\" href=\"https://scikit-learn.org/1.5/modules/generated/sklearn.naive_bayes.MultinomialNB.html\">?<span>Documentation for MultinomialNB</span></a><span class=\"sk-estimator-doc-link fitted\">i<span>Fitted</span></span></label><div class=\"sk-toggleable__content fitted\"><pre>MultinomialNB()</pre></div> </div></div></div></div>"
      ]
     },
     "execution_count": 60,
     "metadata": {},
     "output_type": "execute_result"
    }
   ],
   "execution_count": 60
  },
  {
   "metadata": {
    "ExecuteTime": {
     "end_time": "2024-10-07T13:12:36.357353Z",
     "start_time": "2024-10-07T13:12:36.339046Z"
    }
   },
   "cell_type": "code",
   "source": "y_pred = model.predict(X_test)",
   "id": "ca13e9b0cf199cce",
   "outputs": [],
   "execution_count": 61
  },
  {
   "metadata": {},
   "cell_type": "markdown",
   "source": [
    "from sklearn.model_selection import GridSearchCV\n",
    "\n",
    "param_grid = {'alpha': [0.1, 0.5, 1, 2, 5]}\n",
    "grid_search = GridSearchCV(estimator=MultinomialNB(), param_grid=param_grid, cv=5, scoring='accuracy')\n",
    "grid_search.fit(X_train, y_train)\n"
   ],
   "id": "f26c4fe4c05cd8d6"
  },
  {
   "metadata": {},
   "cell_type": "markdown",
   "source": [
    "best_model = grid_search.best_estimator_\n",
    "y_pred2 = best_model.predict(X_test)\n"
   ],
   "id": "e22a634661803f75"
  },
  {
   "metadata": {},
   "cell_type": "markdown",
   "source": [
    "from sklearn.metrics import accuracy_score, classification_report, confusion_matrix\n",
    "\n",
    "print(\"Accuracy:\", accuracy_score(y_test, y_pred2))\n",
    "print(classification_report(y_test, y_pred2))\n",
    "print(confusion_matrix(y_test, y_pred2))\n"
   ],
   "id": "e14f5f1ee2f248ca"
  },
  {
   "metadata": {},
   "cell_type": "markdown",
   "source": "Grid system has been used and only got a 0.8507 so sticking with current model",
   "id": "7d09d9c002f36ca4"
  },
  {
   "metadata": {
    "ExecuteTime": {
     "end_time": "2024-10-07T13:12:42.015777Z",
     "start_time": "2024-10-07T13:12:41.975404Z"
    }
   },
   "cell_type": "code",
   "source": [
    "accuracy = accuracy_score(y_test, y_pred)\n",
    "print(f\"Accuracy: {accuracy}\")"
   ],
   "id": "c7cad2f303502cd7",
   "outputs": [
    {
     "name": "stdout",
     "output_type": "stream",
     "text": [
      "Accuracy: 0.878\n"
     ]
    }
   ],
   "execution_count": 62
  },
  {
   "metadata": {
    "ExecuteTime": {
     "end_time": "2024-10-07T13:12:43.842569Z",
     "start_time": "2024-10-07T13:12:43.134774Z"
    }
   },
   "cell_type": "code",
   "source": [
    "from sklearn.metrics import classification_report\n",
    "\n",
    "# Generate and print the classification report\n",
    "report = classification_report(y_test, y_pred)\n",
    "print(\"Classification Report:\\n\", report)\n"
   ],
   "id": "463d472804579a41",
   "outputs": [
    {
     "name": "stdout",
     "output_type": "stream",
     "text": [
      "Classification Report:\n",
      "               precision    recall  f1-score   support\n",
      "\n",
      "    negative       0.89      0.86      0.88      4961\n",
      "    positive       0.87      0.89      0.88      5039\n",
      "\n",
      "    accuracy                           0.88     10000\n",
      "   macro avg       0.88      0.88      0.88     10000\n",
      "weighted avg       0.88      0.88      0.88     10000\n",
      "\n"
     ]
    }
   ],
   "execution_count": 63
  },
  {
   "metadata": {
    "ExecuteTime": {
     "end_time": "2024-10-07T13:12:51.157073Z",
     "start_time": "2024-10-07T13:12:50.283633Z"
    }
   },
   "cell_type": "code",
   "source": [
    "from sklearn.metrics import confusion_matrix\n",
    "import seaborn as sns\n",
    "import matplotlib.pyplot as plt\n",
    "\n",
    "# Generate confusion matrix\n",
    "cm = confusion_matrix(y_test, y_pred)\n",
    "\n",
    "# Plot confusion matrix\n",
    "plt.figure(figsize=(10, 7))\n",
    "sns.heatmap(cm, annot=True, fmt='d', cmap='Blues', \n",
    "            xticklabels=['negative', 'positive'], \n",
    "            yticklabels=['negative', 'positive'])\n",
    "plt.xlabel('Predicted Label')\n",
    "plt.ylabel('True Label')\n",
    "plt.title('Confusion Matrix')\n",
    "plt.show()\n"
   ],
   "id": "4740ac34805b15e4",
   "outputs": [
    {
     "data": {
      "text/plain": [
       "<Figure size 1000x700 with 2 Axes>"
      ],
      "image/png": "[encoded data removed]"
     },
     "metadata": {},
     "output_type": "display_data"
    }
   ],
   "execution_count": 64
  },
  {
   "metadata": {
    "ExecuteTime": {
     "end_time": "2024-10-07T13:12:53.548854Z",
     "start_time": "2024-10-07T13:12:52.274179Z"
    }
   },
   "cell_type": "code",
   "source": [
    "import joblib\n",
    "from sklearn.model_selection import cross_val_score, StratifiedKFold\n",
    "\n",
    "# Define the cross-validation strategy\n",
    "cv = StratifiedKFold(n_splits=5, shuffle=True, random_state=42)\n",
    "\n",
    "# Evaluate the model using cross-validation\n",
    "scores = cross_val_score(model, X, y, cv=cv, scoring='accuracy')\n",
    "\n",
    "# Print the results\n",
    "print(f\"Cross-Validation Accuracy Scores: {scores}\")\n",
    "print(f\"Mean Accuracy: {scores.mean():.4f}\")\n",
    "print(f\"Standard Deviation: {scores.std():.4f}\")\n"
   ],
   "id": "ad3d01f5729d6fe2",
   "outputs": [
    {
     "name": "stdout",
     "output_type": "stream",
     "text": [
      "Cross-Validation Accuracy Scores: [0.8775 0.8826 0.8764 0.873  0.8804]\n",
      "Mean Accuracy: 0.8780\n",
      "Standard Deviation: 0.0033\n"
     ]
    }
   ],
   "execution_count": 65
  },
  {
   "metadata": {
    "ExecuteTime": {
     "end_time": "2024-10-07T13:13:04.912236Z",
     "start_time": "2024-10-07T13:13:03.885473Z"
    }
   },
   "cell_type": "code",
   "source": [
    "# Save the model and the vectorizer to files only after evaluation\n",
    "joblib.dump(model, 'sentiment_analysis_model.pkl')\n",
    "joblib.dump(vectorizer, 'vectorizer.pkl')\n",
    "print(\"Model and vectorizer saved successfully.\")\n"
   ],
   "id": "e361297a6b6fd3e1",
   "outputs": [
    {
     "name": "stdout",
     "output_type": "stream",
     "text": [
      "Model and vectorizer saved successfully.\n"
     ]
    }
   ],
   "execution_count": 66
  },
  {
   "metadata": {},
   "cell_type": "code",
   "outputs": [],
   "execution_count": null,
   "source": "",
   "id": "daed93d3f33ccb71"
  }
 ],
 "metadata": {
  "kernelspec": {
   "display_name": "Python 3",
   "language": "python",
   "name": "python3"
  },
  "language_info": {
   "codemirror_mode": {
    "name": "ipython",
    "version": 2
   },
   "file_extension": ".py",
   "mimetype": "text/x-python",
   "name": "python",
   "nbconvert_exporter": "python",
   "pygments_lexer": "ipython2",
   "version": "2.7.6"
  }
 },
 "nbformat": 4,
 "nbformat_minor": 5
}
