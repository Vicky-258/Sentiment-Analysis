{
 "cells": [
  {
   "metadata": {},
   "cell_type": "markdown",
   "source": [
    "Getting Started\n",
    "\n",
    "Loading and reviewing the data set"
   ],
   "id": "52df9cb17f21f5e7"
  },
  {
   "metadata": {
    "ExecuteTime": {
     "end_time": "2024-07-23T09:14:59.883867Z",
     "start_time": "2024-07-23T09:14:58.806563Z"
    }
   },
   "cell_type": "code",
   "source": [
    "import pandas as pd\n",
    "\n",
    "# Loading the dataset\n",
    "df = pd.read_csv('IMDB Dataset.csv')\n",
    "\n",
    "# Displaying the first fwe rows\n",
    "df.head()"
   ],
   "id": "32f1df94084a8376",
   "outputs": [
    {
     "data": {
      "text/plain": [
       "                                              review sentiment\n",
       "0  One of the other reviewers has mentioned that ...  positive\n",
       "1  A wonderful little production. <br /><br />The...  positive\n",
       "2  I thought this was a wonderful way to spend ti...  positive\n",
       "3  Basically there's a family where a little boy ...  negative\n",
       "4  Petter Mattei's \"Love in the Time of Money\" is...  positive"
      ],
      "text/html": [
       "<div>\n",
       "<style scoped>\n",
       "    .dataframe tbody tr th:only-of-type {\n",
       "        vertical-align: middle;\n",
       "    }\n",
       "\n",
       "    .dataframe tbody tr th {\n",
       "        vertical-align: top;\n",
       "    }\n",
       "\n",
       "    .dataframe thead th {\n",
       "        text-align: right;\n",
       "    }\n",
       "</style>\n",
       "<table border=\"1\" class=\"dataframe\">\n",
       "  <thead>\n",
       "    <tr style=\"text-align: right;\">\n",
       "      <th></th>\n",
       "      <th>review</th>\n",
       "      <th>sentiment</th>\n",
       "    </tr>\n",
       "  </thead>\n",
       "  <tbody>\n",
       "    <tr>\n",
       "      <th>0</th>\n",
       "      <td>One of the other reviewers has mentioned that ...</td>\n",
       "      <td>positive</td>\n",
       "    </tr>\n",
       "    <tr>\n",
       "      <th>1</th>\n",
       "      <td>A wonderful little production. &lt;br /&gt;&lt;br /&gt;The...</td>\n",
       "      <td>positive</td>\n",
       "    </tr>\n",
       "    <tr>\n",
       "      <th>2</th>\n",
       "      <td>I thought this was a wonderful way to spend ti...</td>\n",
       "      <td>positive</td>\n",
       "    </tr>\n",
       "    <tr>\n",
       "      <th>3</th>\n",
       "      <td>Basically there's a family where a little boy ...</td>\n",
       "      <td>negative</td>\n",
       "    </tr>\n",
       "    <tr>\n",
       "      <th>4</th>\n",
       "      <td>Petter Mattei's \"Love in the Time of Money\" is...</td>\n",
       "      <td>positive</td>\n",
       "    </tr>\n",
       "  </tbody>\n",
       "</table>\n",
       "</div>"
      ]
     },
     "execution_count": 1,
     "metadata": {},
     "output_type": "execute_result"
    }
   ],
   "execution_count": 1
  },
  {
   "metadata": {},
   "cell_type": "markdown",
   "source": "Inspecting the dataset",
   "id": "bc4a97829da4a660"
  },
  {
   "metadata": {
    "ExecuteTime": {
     "end_time": "2024-07-23T09:14:59.983417Z",
     "start_time": "2024-07-23T09:14:59.884877Z"
    }
   },
   "cell_type": "code",
   "source": [
    "df.info()\n",
    "df.describe()"
   ],
   "id": "5862d4ce43ad5e18",
   "outputs": [
    {
     "name": "stdout",
     "output_type": "stream",
     "text": [
      "<class 'pandas.core.frame.DataFrame'>\n",
      "RangeIndex: 50000 entries, 0 to 49999\n",
      "Data columns (total 2 columns):\n",
      " #   Column     Non-Null Count  Dtype \n",
      "---  ------     --------------  ----- \n",
      " 0   review     50000 non-null  object\n",
      " 1   sentiment  50000 non-null  object\n",
      "dtypes: object(2)\n",
      "memory usage: 781.4+ KB\n"
     ]
    },
    {
     "data": {
      "text/plain": [
       "                                                   review sentiment\n",
       "count                                               50000     50000\n",
       "unique                                              49582         2\n",
       "top     Loved today's show!!! It was a variety and not...  positive\n",
       "freq                                                    5     25000"
      ],
      "text/html": [
       "<div>\n",
       "<style scoped>\n",
       "    .dataframe tbody tr th:only-of-type {\n",
       "        vertical-align: middle;\n",
       "    }\n",
       "\n",
       "    .dataframe tbody tr th {\n",
       "        vertical-align: top;\n",
       "    }\n",
       "\n",
       "    .dataframe thead th {\n",
       "        text-align: right;\n",
       "    }\n",
       "</style>\n",
       "<table border=\"1\" class=\"dataframe\">\n",
       "  <thead>\n",
       "    <tr style=\"text-align: right;\">\n",
       "      <th></th>\n",
       "      <th>review</th>\n",
       "      <th>sentiment</th>\n",
       "    </tr>\n",
       "  </thead>\n",
       "  <tbody>\n",
       "    <tr>\n",
       "      <th>count</th>\n",
       "      <td>50000</td>\n",
       "      <td>50000</td>\n",
       "    </tr>\n",
       "    <tr>\n",
       "      <th>unique</th>\n",
       "      <td>49582</td>\n",
       "      <td>2</td>\n",
       "    </tr>\n",
       "    <tr>\n",
       "      <th>top</th>\n",
       "      <td>Loved today's show!!! It was a variety and not...</td>\n",
       "      <td>positive</td>\n",
       "    </tr>\n",
       "    <tr>\n",
       "      <th>freq</th>\n",
       "      <td>5</td>\n",
       "      <td>25000</td>\n",
       "    </tr>\n",
       "  </tbody>\n",
       "</table>\n",
       "</div>"
      ]
     },
     "execution_count": 2,
     "metadata": {},
     "output_type": "execute_result"
    }
   ],
   "execution_count": 2
  },
  {
   "metadata": {
    "ExecuteTime": {
     "end_time": "2024-07-23T09:15:00.001929Z",
     "start_time": "2024-07-23T09:14:59.985428Z"
    }
   },
   "cell_type": "code",
   "source": [
    "df.isnull().sum()\n",
    "\n",
    "df['sentiment'].value_counts()"
   ],
   "id": "db1b45418d95a49e",
   "outputs": [
    {
     "data": {
      "text/plain": [
       "sentiment\n",
       "positive    25000\n",
       "negative    25000\n",
       "Name: count, dtype: int64"
      ]
     },
     "execution_count": 3,
     "metadata": {},
     "output_type": "execute_result"
    }
   ],
   "execution_count": 3
  },
  {
   "metadata": {
    "ExecuteTime": {
     "end_time": "2024-07-23T09:15:03.316758Z",
     "start_time": "2024-07-23T09:15:00.002937Z"
    }
   },
   "cell_type": "code",
   "source": [
    "import re\n",
    "\n",
    "def preprocess_text(text):\n",
    "    text = text.lower()  # Convert to lowercase\n",
    "    text = re.sub(r'<br\\s*/?>', ' ', text)  # Replace <br/> with space\n",
    "    text = re.sub(r'<[^>]+>', '', text)  # Remove any remaining HTML tags\n",
    "    text = re.sub(r'[^\\w\\s]', '', text)  # Remove punctuation\n",
    "    text = ' '.join(text.split())  # Remove extra whitespace\n",
    "    return text\n",
    "\n",
    "df['cleaned_review'] = df['review'].apply(preprocess_text)"
   ],
   "id": "babac52c1d010aec",
   "outputs": [],
   "execution_count": 4
  },
  {
   "metadata": {
    "ExecuteTime": {
     "end_time": "2024-07-23T09:15:03.322185Z",
     "start_time": "2024-07-23T09:15:03.317783Z"
    }
   },
   "cell_type": "code",
   "source": [
    "for i in range(5):  # Print the first 5 samples\n",
    "    print(f\"Original: {df.iloc[i]['review']}\")\n",
    "    print(f\"Cleaned: {df.iloc[i]['cleaned_review']}\\n\")\n"
   ],
   "id": "13a15ae385556374",
   "outputs": [
    {
     "name": "stdout",
     "output_type": "stream",
     "text": [
      "Original: One of the other reviewers has mentioned that after watching just 1 Oz episode you'll be hooked. They are right, as this is exactly what happened with me.<br /><br />The first thing that struck me about Oz was its brutality and unflinching scenes of violence, which set in right from the word GO. Trust me, this is not a show for the faint hearted or timid. This show pulls no punches with regards to drugs, sex or violence. Its is hardcore, in the classic use of the word.<br /><br />It is called OZ as that is the nickname given to the Oswald Maximum Security State Penitentary. It focuses mainly on Emerald City, an experimental section of the prison where all the cells have glass fronts and face inwards, so privacy is not high on the agenda. Em City is home to many..Aryans, Muslims, gangstas, Latinos, Christians, Italians, Irish and more....so scuffles, death stares, dodgy dealings and shady agreements are never far away.<br /><br />I would say the main appeal of the show is due to the fact that it goes where other shows wouldn't dare. Forget pretty pictures painted for mainstream audiences, forget charm, forget romance...OZ doesn't mess around. The first episode I ever saw struck me as so nasty it was surreal, I couldn't say I was ready for it, but as I watched more, I developed a taste for Oz, and got accustomed to the high levels of graphic violence. Not just violence, but injustice (crooked guards who'll be sold out for a nickel, inmates who'll kill on order and get away with it, well mannered, middle class inmates being turned into prison bitches due to their lack of street skills or prison experience) Watching Oz, you may become comfortable with what is uncomfortable viewing....thats if you can get in touch with your darker side.\n",
      "Cleaned: one of the other reviewers has mentioned that after watching just 1 oz episode youll be hooked they are right as this is exactly what happened with me the first thing that struck me about oz was its brutality and unflinching scenes of violence which set in right from the word go trust me this is not a show for the faint hearted or timid this show pulls no punches with regards to drugs sex or violence its is hardcore in the classic use of the word it is called oz as that is the nickname given to the oswald maximum security state penitentary it focuses mainly on emerald city an experimental section of the prison where all the cells have glass fronts and face inwards so privacy is not high on the agenda em city is home to manyaryans muslims gangstas latinos christians italians irish and moreso scuffles death stares dodgy dealings and shady agreements are never far away i would say the main appeal of the show is due to the fact that it goes where other shows wouldnt dare forget pretty pictures painted for mainstream audiences forget charm forget romanceoz doesnt mess around the first episode i ever saw struck me as so nasty it was surreal i couldnt say i was ready for it but as i watched more i developed a taste for oz and got accustomed to the high levels of graphic violence not just violence but injustice crooked guards wholl be sold out for a nickel inmates wholl kill on order and get away with it well mannered middle class inmates being turned into prison bitches due to their lack of street skills or prison experience watching oz you may become comfortable with what is uncomfortable viewingthats if you can get in touch with your darker side\n",
      "\n",
      "Original: A wonderful little production. <br /><br />The filming technique is very unassuming- very old-time-BBC fashion and gives a comforting, and sometimes discomforting, sense of realism to the entire piece. <br /><br />The actors are extremely well chosen- Michael Sheen not only \"has got all the polari\" but he has all the voices down pat too! You can truly see the seamless editing guided by the references to Williams' diary entries, not only is it well worth the watching but it is a terrificly written and performed piece. A masterful production about one of the great master's of comedy and his life. <br /><br />The realism really comes home with the little things: the fantasy of the guard which, rather than use the traditional 'dream' techniques remains solid then disappears. It plays on our knowledge and our senses, particularly with the scenes concerning Orton and Halliwell and the sets (particularly of their flat with Halliwell's murals decorating every surface) are terribly well done.\n",
      "Cleaned: a wonderful little production the filming technique is very unassuming very oldtimebbc fashion and gives a comforting and sometimes discomforting sense of realism to the entire piece the actors are extremely well chosen michael sheen not only has got all the polari but he has all the voices down pat too you can truly see the seamless editing guided by the references to williams diary entries not only is it well worth the watching but it is a terrificly written and performed piece a masterful production about one of the great masters of comedy and his life the realism really comes home with the little things the fantasy of the guard which rather than use the traditional dream techniques remains solid then disappears it plays on our knowledge and our senses particularly with the scenes concerning orton and halliwell and the sets particularly of their flat with halliwells murals decorating every surface are terribly well done\n",
      "\n",
      "Original: I thought this was a wonderful way to spend time on a too hot summer weekend, sitting in the air conditioned theater and watching a light-hearted comedy. The plot is simplistic, but the dialogue is witty and the characters are likable (even the well bread suspected serial killer). While some may be disappointed when they realize this is not Match Point 2: Risk Addiction, I thought it was proof that Woody Allen is still fully in control of the style many of us have grown to love.<br /><br />This was the most I'd laughed at one of Woody's comedies in years (dare I say a decade?). While I've never been impressed with Scarlet Johanson, in this she managed to tone down her \"sexy\" image and jumped right into a average, but spirited young woman.<br /><br />This may not be the crown jewel of his career, but it was wittier than \"Devil Wears Prada\" and more interesting than \"Superman\" a great comedy to go see with friends.\n",
      "Cleaned: i thought this was a wonderful way to spend time on a too hot summer weekend sitting in the air conditioned theater and watching a lighthearted comedy the plot is simplistic but the dialogue is witty and the characters are likable even the well bread suspected serial killer while some may be disappointed when they realize this is not match point 2 risk addiction i thought it was proof that woody allen is still fully in control of the style many of us have grown to love this was the most id laughed at one of woodys comedies in years dare i say a decade while ive never been impressed with scarlet johanson in this she managed to tone down her sexy image and jumped right into a average but spirited young woman this may not be the crown jewel of his career but it was wittier than devil wears prada and more interesting than superman a great comedy to go see with friends\n",
      "\n",
      "Original: Basically there's a family where a little boy (Jake) thinks there's a zombie in his closet & his parents are fighting all the time.<br /><br />This movie is slower than a soap opera... and suddenly, Jake decides to become Rambo and kill the zombie.<br /><br />OK, first of all when you're going to make a film you must Decide if its a thriller or a drama! As a drama the movie is watchable. Parents are divorcing & arguing like in real life. And then we have Jake with his closet which totally ruins all the film! I expected to see a BOOGEYMAN similar movie, and instead i watched a drama with some meaningless thriller spots.<br /><br />3 out of 10 just for the well playing parents & descent dialogs. As for the shots with Jake: just ignore them.\n",
      "Cleaned: basically theres a family where a little boy jake thinks theres a zombie in his closet his parents are fighting all the time this movie is slower than a soap opera and suddenly jake decides to become rambo and kill the zombie ok first of all when youre going to make a film you must decide if its a thriller or a drama as a drama the movie is watchable parents are divorcing arguing like in real life and then we have jake with his closet which totally ruins all the film i expected to see a boogeyman similar movie and instead i watched a drama with some meaningless thriller spots 3 out of 10 just for the well playing parents descent dialogs as for the shots with jake just ignore them\n",
      "\n",
      "Original: Petter Mattei's \"Love in the Time of Money\" is a visually stunning film to watch. Mr. Mattei offers us a vivid portrait about human relations. This is a movie that seems to be telling us what money, power and success do to people in the different situations we encounter. <br /><br />This being a variation on the Arthur Schnitzler's play about the same theme, the director transfers the action to the present time New York where all these different characters meet and connect. Each one is connected in one way, or another to the next person, but no one seems to know the previous point of contact. Stylishly, the film has a sophisticated luxurious look. We are taken to see how these people live and the world they live in their own habitat.<br /><br />The only thing one gets out of all these souls in the picture is the different stages of loneliness each one inhabits. A big city is not exactly the best place in which human relations find sincere fulfillment, as one discerns is the case with most of the people we encounter.<br /><br />The acting is good under Mr. Mattei's direction. Steve Buscemi, Rosario Dawson, Carol Kane, Michael Imperioli, Adrian Grenier, and the rest of the talented cast, make these characters come alive.<br /><br />We wish Mr. Mattei good luck and await anxiously for his next work.\n",
      "Cleaned: petter matteis love in the time of money is a visually stunning film to watch mr mattei offers us a vivid portrait about human relations this is a movie that seems to be telling us what money power and success do to people in the different situations we encounter this being a variation on the arthur schnitzlers play about the same theme the director transfers the action to the present time new york where all these different characters meet and connect each one is connected in one way or another to the next person but no one seems to know the previous point of contact stylishly the film has a sophisticated luxurious look we are taken to see how these people live and the world they live in their own habitat the only thing one gets out of all these souls in the picture is the different stages of loneliness each one inhabits a big city is not exactly the best place in which human relations find sincere fulfillment as one discerns is the case with most of the people we encounter the acting is good under mr matteis direction steve buscemi rosario dawson carol kane michael imperioli adrian grenier and the rest of the talented cast make these characters come alive we wish mr mattei good luck and await anxiously for his next work\n",
      "\n"
     ]
    }
   ],
   "execution_count": 5
  },
  {
   "metadata": {
    "ExecuteTime": {
     "end_time": "2024-07-23T09:15:03.451513Z",
     "start_time": "2024-07-23T09:15:03.324194Z"
    }
   },
   "cell_type": "code",
   "source": [
    "from sklearn.preprocessing import LabelEncoder\n",
    "\n",
    "le = LabelEncoder()\n",
    "\n",
    "df['sentiment_encoded'] = le.fit_transform(df['sentiment'])\n",
    "\n",
    "df[['sentiment', 'sentiment_encoded']].head()\n",
    "\n",
    "df['sentiment_encoded'].value_counts()"
   ],
   "id": "38b98e55b91f6a06",
   "outputs": [
    {
     "data": {
      "text/plain": [
       "sentiment_encoded\n",
       "1    25000\n",
       "0    25000\n",
       "Name: count, dtype: int64"
      ]
     },
     "execution_count": 6,
     "metadata": {},
     "output_type": "execute_result"
    }
   ],
   "execution_count": 6
  },
  {
   "metadata": {
    "ExecuteTime": {
     "end_time": "2024-07-23T09:15:03.582238Z",
     "start_time": "2024-07-23T09:15:03.452519Z"
    }
   },
   "cell_type": "code",
   "source": [
    "import matplotlib.pyplot as plt\n",
    "\n",
    "# Plot distribution of sentiment labels\n",
    "df['sentiment_encoded'].value_counts().plot(kind='bar')\n",
    "\n",
    "plt.title('Distribution of Sentiment Labels')\n",
    "\n",
    "plt.xlabel('Sentiment')\n",
    "plt.ylabel('Count')\n",
    "plt.show()\n"
   ],
   "id": "bcd894e9beba9f0f",
   "outputs": [
    {
     "data": {
      "text/plain": [
       "<Figure size 640x480 with 1 Axes>"
      ],
      "image/png": "[encoded data removed]"
     },
     "metadata": {},
     "output_type": "display_data"
    }
   ],
   "execution_count": 7
  },
  {
   "metadata": {
    "ExecuteTime": {
     "end_time": "2024-07-23T09:15:03.610840Z",
     "start_time": "2024-07-23T09:15:03.583255Z"
    }
   },
   "cell_type": "code",
   "source": [
    "# Calculate the length of each cleaned review\n",
    "review_lengths = df['cleaned_review'].str.len()\n",
    "\n",
    "# Get a statistical summary of review lengths\n",
    "print(review_lengths.describe())\n"
   ],
   "id": "ca274f4b44c2dade",
   "outputs": [
    {
     "name": "stdout",
     "output_type": "stream",
     "text": [
      "count    50000.00000\n",
      "mean      1245.44356\n",
      "std        942.10757\n",
      "min         30.00000\n",
      "25%        667.00000\n",
      "50%        924.00000\n",
      "75%       1511.00000\n",
      "max      13295.00000\n",
      "Name: cleaned_review, dtype: float64\n"
     ]
    }
   ],
   "execution_count": 8
  },
  {
   "metadata": {
    "ExecuteTime": {
     "end_time": "2024-07-23T09:15:03.640074Z",
     "start_time": "2024-07-23T09:15:03.612849Z"
    }
   },
   "cell_type": "code",
   "source": [
    "# Set the maximum length for reviews\n",
    "MAX_LENGTH = 1500\n",
    "\n",
    "# Truncate reviews longer than MAX_LENGTH\n",
    "df['cleaned_review'] = df['cleaned_review'].apply(lambda x: x[:MAX_LENGTH])\n"
   ],
   "id": "df763240f39782b4",
   "outputs": [],
   "execution_count": 9
  },
  {
   "metadata": {
    "ExecuteTime": {
     "end_time": "2024-07-23T09:15:03.661316Z",
     "start_time": "2024-07-23T09:15:03.641086Z"
    }
   },
   "cell_type": "code",
   "source": [
    "# Set the minimum length for reviews\n",
    "MIN_LENGTH = 700\n",
    "\n",
    "# Pad reviews shorter than MIN_LENGTH\n",
    "df['cleaned_review'] = df['cleaned_review'].apply(lambda x: x.ljust(MIN_LENGTH))\n"
   ],
   "id": "4d13d0779c7d0293",
   "outputs": [],
   "execution_count": 10
  },
  {
   "metadata": {
    "ExecuteTime": {
     "end_time": "2024-07-23T09:15:03.705253Z",
     "start_time": "2024-07-23T09:15:03.661316Z"
    }
   },
   "cell_type": "code",
   "source": [
    "print(df['cleaned_review'].apply(len).describe())\n",
    "\n",
    "# Sample of truncated reviews\n",
    "df[df['cleaned_review'].str.len() == MIN_LENGTH].sample(5)['cleaned_review']\n"
   ],
   "id": "590a429604021a6b",
   "outputs": [
    {
     "name": "stdout",
     "output_type": "stream",
     "text": [
      "count    50000.000000\n",
      "mean      1037.590360\n",
      "std        332.461491\n",
      "min        700.000000\n",
      "25%        700.000000\n",
      "50%        924.000000\n",
      "75%       1500.000000\n",
      "max       1500.000000\n",
      "Name: cleaned_review, dtype: float64\n"
     ]
    },
    {
     "data": {
      "text/plain": [
       "44277    i hired the dvd yesterday and first of all it ...\n",
       "43862    the elite sniper team that has inserted 24h or...\n",
       "8356     love it love it love it this is another absolu...\n",
       "37908    i managed to sneak away one night and go to th...\n",
       "6136     an our gang comedy short the gang coerces span...\n",
       "Name: cleaned_review, dtype: object"
      ]
     },
     "execution_count": 11,
     "metadata": {},
     "output_type": "execute_result"
    }
   ],
   "execution_count": 11
  },
  {
   "metadata": {
    "ExecuteTime": {
     "end_time": "2024-07-23T09:15:03.952714Z",
     "start_time": "2024-07-23T09:15:03.706261Z"
    }
   },
   "cell_type": "code",
   "source": [
    "import matplotlib.pyplot as plt\n",
    "\n",
    "plt.hist(df['cleaned_review'].apply(len), bins=50)\n",
    "plt.title('Distribution of Review Lengths')\n",
    "plt.xlabel('Length')\n",
    "plt.ylabel('Frequency')\n",
    "plt.show()\n"
   ],
   "id": "b64a62903ca26c29",
   "outputs": [
    {
     "data": {
      "text/plain": [
       "<Figure size 640x480 with 1 Axes>"
      ],
      "image/png": "[encoded data removed]"
     },
     "metadata": {},
     "output_type": "display_data"
    }
   ],
   "execution_count": 12
  },
  {
   "metadata": {
    "ExecuteTime": {
     "end_time": "2024-07-23T09:15:11.232085Z",
     "start_time": "2024-07-23T09:15:03.954722Z"
    }
   },
   "cell_type": "code",
   "source": [
    "from sklearn.feature_extraction.text import TfidfVectorizer\n",
    "\n",
    "vectorizer = TfidfVectorizer(max_features=10000, min_df=5)\n",
    "\n",
    "matrix = vectorizer.fit_transform(df['cleaned_review'])"
   ],
   "id": "7ae11fae22d5d84c",
   "outputs": [],
   "execution_count": 13
  },
  {
   "metadata": {
    "ExecuteTime": {
     "end_time": "2024-07-23T09:15:13.742744Z",
     "start_time": "2024-07-23T09:15:11.235112Z"
    }
   },
   "cell_type": "code",
   "source": [
    "# Convert the matrix to a DataFrame for better readability\n",
    "tfidf_df = pd.DataFrame(matrix.toarray(), columns=vectorizer.get_feature_names_out())\n",
    "\n",
    "print(tfidf_df.shape)"
   ],
   "id": "f2a1c742916d4e4",
   "outputs": [
    {
     "name": "stdout",
     "output_type": "stream",
     "text": [
      "(50000, 10000)\n"
     ]
    }
   ],
   "execution_count": 14
  },
  {
   "metadata": {},
   "cell_type": "markdown",
   "source": "Splitting the data",
   "id": "aeeec897db62a7c"
  },
  {
   "metadata": {
    "ExecuteTime": {
     "end_time": "2024-07-23T09:15:13.827477Z",
     "start_time": "2024-07-23T09:15:13.743758Z"
    }
   },
   "cell_type": "code",
   "source": [
    "from sklearn.model_selection import train_test_split\n",
    "\n",
    "# Features and labels\n",
    "X = matrix  \n",
    "y = df['sentiment']\n"
   ],
   "id": "4a92402dcfe45c9b",
   "outputs": [],
   "execution_count": 15
  },
  {
   "metadata": {
    "ExecuteTime": {
     "end_time": "2024-07-23T09:15:13.866359Z",
     "start_time": "2024-07-23T09:15:13.828529Z"
    }
   },
   "cell_type": "code",
   "source": [
    "# Split the data into training and testing sets\n",
    "X_train, X_test, y_train, y_test = train_test_split(X, y, test_size=0.2, random_state=42)\n"
   ],
   "id": "18fb094d8e82fd6",
   "outputs": [],
   "execution_count": 16
  },
  {
   "metadata": {
    "ExecuteTime": {
     "end_time": "2024-07-23T09:15:13.872673Z",
     "start_time": "2024-07-23T09:15:13.867402Z"
    }
   },
   "cell_type": "code",
   "source": [
    "# Verify the split\n",
    "print(f\"Training set size: {X_train.shape}, {y_train.shape}\")\n",
    "print(f\"Testing set size: {X_test.shape}, {y_test.shape}\")\n"
   ],
   "id": "706459a76800dcde",
   "outputs": [
    {
     "name": "stdout",
     "output_type": "stream",
     "text": [
      "Training set size: (40000, 10000), (40000,)\n",
      "Testing set size: (10000, 10000), (10000,)\n"
     ]
    }
   ],
   "execution_count": 17
  },
  {
   "metadata": {
    "ExecuteTime": {
     "end_time": "2024-07-23T09:15:13.883563Z",
     "start_time": "2024-07-23T09:15:13.874685Z"
    }
   },
   "cell_type": "code",
   "source": [
    "# Review some sample data from the training set\n",
    "print(\"Sample of cleaned reviews from training data:\")\n",
    "for i in range(5):  # Displaying first 5 samples\n",
    "    print(f\"Review {i+1}:\")\n",
    "    print(X_train[i])  # Print the feature vector\n",
    "    print(\"Sentiment:\", y_train.iloc[i])\n",
    "    print()\n"
   ],
   "id": "3eda0bce43bf6190",
   "outputs": [
    {
     "name": "stdout",
     "output_type": "stream",
     "text": [
      "Sample of cleaned reviews from training data:\n",
      "Review 1:\n",
      "<Compressed Sparse Row sparse matrix of dtype 'float64'\n",
      "\twith 161 stored elements and shape (1, 10000)>\n",
      "  Coords\tValues\n",
      "  (0, 6245)\t0.026699224114247733\n",
      "  (0, 6204)\t0.10202826644075948\n",
      "  (0, 8958)\t0.22799068112206328\n",
      "  (0, 6302)\t0.03983732324340853\n",
      "  (0, 4163)\t0.03243215274654011\n",
      "  (0, 8955)\t0.10005879317490897\n",
      "  (0, 4939)\t0.03188441700488792\n",
      "  (0, 895)\t0.026602646894678145\n",
      "  (0, 8985)\t0.06387689510461914\n",
      "  (0, 603)\t0.05358402092994074\n",
      "  (0, 655)\t0.0718876402204351\n",
      "  (0, 9003)\t0.03615378025455133\n",
      "  (0, 4783)\t0.05417392737443459\n",
      "  (0, 9760)\t0.0999647771841424\n",
      "  (0, 9853)\t0.02243166431145058\n",
      "  (0, 9676)\t0.023970410119543293\n",
      "  (0, 484)\t0.10039918960570808\n",
      "  (0, 9774)\t0.0377414305670452\n",
      "  (0, 4555)\t0.07310441417880635\n",
      "  (0, 3725)\t0.08948972355697041\n",
      "  (0, 6116)\t0.025662727670637944\n",
      "  (0, 3624)\t0.06665431324370726\n",
      "  (0, 9088)\t0.0858192649134731\n",
      "  (0, 4795)\t0.03830340496514591\n",
      "  (0, 6243)\t0.0488674156932028\n",
      "  :\t:\n",
      "  (0, 215)\t0.10979339684095217\n",
      "  (0, 4466)\t0.10968686107381236\n",
      "  (0, 7782)\t0.09693213887350982\n",
      "  (0, 9161)\t0.10937140914092457\n",
      "  (0, 5255)\t0.08447131012988766\n",
      "  (0, 4513)\t0.08555309079267302\n",
      "  (0, 4121)\t0.10371910336523972\n",
      "  (0, 559)\t0.0811617836505559\n",
      "  (0, 4302)\t0.10566605237182007\n",
      "  (0, 584)\t0.12130476134273555\n",
      "  (0, 5596)\t0.11336825839183123\n",
      "  (0, 4544)\t0.11055951197904995\n",
      "  (0, 1949)\t0.11221030386690051\n",
      "  (0, 2798)\t0.10265453450172413\n",
      "  (0, 9570)\t0.09787453275965241\n",
      "  (0, 8778)\t0.11850813668052101\n",
      "  (0, 6325)\t0.12580322635077829\n",
      "  (0, 7212)\t0.12863103964128905\n",
      "  (0, 2123)\t0.10807150303141423\n",
      "  (0, 6246)\t0.1107852514647009\n",
      "  (0, 948)\t0.11284333049621778\n",
      "  (0, 5575)\t0.11520273230825315\n",
      "  (0, 3973)\t0.12897815216183978\n",
      "  (0, 5024)\t0.11796707673946563\n",
      "  (0, 4258)\t0.1276323638114991\n",
      "Sentiment: negative\n",
      "\n",
      "Review 2:\n",
      "<Compressed Sparse Row sparse matrix of dtype 'float64'\n",
      "\twith 146 stored elements and shape (1, 10000)>\n",
      "  Coords\tValues\n",
      "  (0, 6245)\t0.023675674022862997\n",
      "  (0, 6204)\t0.04523704447426588\n",
      "  (0, 8958)\t0.31769871052317966\n",
      "  (0, 6302)\t0.035325950859787306\n",
      "  (0, 8955)\t0.035491059368516195\n",
      "  (0, 336)\t0.037582624141936\n",
      "  (0, 9691)\t0.08631257135425953\n",
      "  (0, 895)\t0.04718006735541231\n",
      "  (0, 603)\t0.02375795279561235\n",
      "  (0, 7496)\t0.0491235979781726\n",
      "  (0, 655)\t0.10624455657393866\n",
      "  (0, 9003)\t0.01602977510391776\n",
      "  (0, 4783)\t0.1441170244761069\n",
      "  (0, 9853)\t0.039782786927114205\n",
      "  (0, 484)\t0.11870599560461341\n",
      "  (0, 7747)\t0.04369908111234616\n",
      "  (0, 7921)\t0.053548423428315485\n",
      "  (0, 4555)\t0.06482571449730494\n",
      "  (0, 3725)\t0.05290364779302881\n",
      "  (0, 6116)\t0.0910262219257976\n",
      "  (0, 3624)\t0.05910605438656495\n",
      "  (0, 6278)\t0.02867714319740166\n",
      "  (0, 9088)\t0.09132080837759705\n",
      "  (0, 4795)\t0.03396574095336995\n",
      "  (0, 6243)\t0.0216667158442744\n",
      "  :\t:\n",
      "  (0, 9236)\t0.06246614172799365\n",
      "  (0, 1661)\t0.24188930672676795\n",
      "  (0, 5126)\t0.11890808407360924\n",
      "  (0, 3232)\t0.07693829623643533\n",
      "  (0, 2506)\t0.08449419069923014\n",
      "  (0, 8541)\t0.08545136013671495\n",
      "  (0, 2802)\t0.1756471134118073\n",
      "  (0, 5077)\t0.07938934280659866\n",
      "  (0, 1856)\t0.06957722197114144\n",
      "  (0, 2431)\t0.09917653180348253\n",
      "  (0, 5504)\t0.10508769847014571\n",
      "  (0, 8681)\t0.07872967187804375\n",
      "  (0, 5880)\t0.09928454986709412\n",
      "  (0, 3181)\t0.1618546663433275\n",
      "  (0, 9170)\t0.16143678080510018\n",
      "  (0, 2527)\t0.08215081743782186\n",
      "  (0, 1492)\t0.0867907442868718\n",
      "  (0, 4636)\t0.08821840451927107\n",
      "  (0, 941)\t0.09972496386187346\n",
      "  (0, 2652)\t0.09950306289767599\n",
      "  (0, 8652)\t0.09794016708753438\n",
      "  (0, 6191)\t0.09626538944714441\n",
      "  (0, 4610)\t0.10627401363658844\n",
      "  (0, 2649)\t0.11468660770475458\n",
      "  (0, 897)\t0.10836295354093797\n",
      "Sentiment: negative\n",
      "\n",
      "Review 3:\n",
      "<Compressed Sparse Row sparse matrix of dtype 'float64'\n",
      "\twith 62 stored elements and shape (1, 10000)>\n",
      "  Coords\tValues\n",
      "  (0, 6204)\t0.02834453884144719\n",
      "  (0, 8958)\t0.16286975722623642\n",
      "  (0, 6302)\t0.066403395572797\n",
      "  (0, 8955)\t0.03335687783606051\n",
      "  (0, 895)\t0.04434299147654299\n",
      "  (0, 655)\t0.11982691159206585\n",
      "  (0, 9003)\t0.030131715389439147\n",
      "  (0, 4783)\t0.06020037553220513\n",
      "  (0, 9853)\t0.037390531224406616\n",
      "  (0, 484)\t0.11156785579930042\n",
      "  (0, 4555)\t0.06092755408254083\n",
      "  (0, 3624)\t0.03703455594402795\n",
      "  (0, 9088)\t0.11443922697309068\n",
      "  (0, 3599)\t0.16526857856613436\n",
      "  (0, 6243)\t0.08145533059711695\n",
      "  (0, 3327)\t0.11316829397585104\n",
      "  (0, 8248)\t0.050197789092203585\n",
      "  (0, 9737)\t0.06524886180427916\n",
      "  (0, 9518)\t0.05868656462840721\n",
      "  (0, 4189)\t0.05472212105266459\n",
      "  (0, 7837)\t0.06107421005290314\n",
      "  (0, 1336)\t0.049276260419082805\n",
      "  (0, 4306)\t0.05185686781414571\n",
      "  (0, 8733)\t0.1651766011543762\n",
      "  (0, 5379)\t0.15413521312384104\n",
      "  :\t:\n",
      "  (0, 9448)\t0.10549851771951166\n",
      "  (0, 5901)\t0.12758384227166295\n",
      "  (0, 3408)\t0.11294338131383434\n",
      "  (0, 4454)\t0.12788061555472408\n",
      "  (0, 5537)\t0.1523489043440429\n",
      "  (0, 9653)\t0.11635200464740288\n",
      "  (0, 5850)\t0.15269308857013658\n",
      "  (0, 9367)\t0.18030110348986667\n",
      "  (0, 5845)\t0.1439477541997171\n",
      "  (0, 9144)\t0.14462354148549633\n",
      "  (0, 7338)\t0.16955430925616044\n",
      "  (0, 962)\t0.15491876953460074\n",
      "  (0, 2803)\t0.18504554960405561\n",
      "  (0, 734)\t0.17654804187156878\n",
      "  (0, 3036)\t0.1467591441845164\n",
      "  (0, 7875)\t0.19576244226006284\n",
      "  (0, 8600)\t0.14774956400440345\n",
      "  (0, 4215)\t0.16787885018212323\n",
      "  (0, 8873)\t0.15381299608021576\n",
      "  (0, 5806)\t0.16481180415180133\n",
      "  (0, 2923)\t0.18622398762538228\n",
      "  (0, 3439)\t0.14779764867624742\n",
      "  (0, 1879)\t0.1925301557774706\n",
      "  (0, 1636)\t0.16197725155968676\n",
      "  (0, 6693)\t0.18265665173588982\n",
      "Sentiment: positive\n",
      "\n",
      "Review 4:\n",
      "<Compressed Sparse Row sparse matrix of dtype 'float64'\n",
      "\twith 101 stored elements and shape (1, 10000)>\n",
      "  Coords\tValues\n",
      "  (0, 6204)\t0.12390406679226403\n",
      "  (0, 8958)\t0.15821370498433146\n",
      "  (0, 8955)\t0.048604928125072895\n",
      "  (0, 4939)\t0.03872072977442843\n",
      "  (0, 895)\t0.03230649948956126\n",
      "  (0, 9003)\t0.06585822576021737\n",
      "  (0, 4783)\t0.04385954435282957\n",
      "  (0, 9853)\t0.054482439623168594\n",
      "  (0, 484)\t0.06096285043722554\n",
      "  (0, 9774)\t0.18333416402914057\n",
      "  (0, 4555)\t0.08877867411850472\n",
      "  (0, 6116)\t0.03116505292404081\n",
      "  (0, 3624)\t0.026981870705199962\n",
      "  (0, 6278)\t0.03927328484250891\n",
      "  (0, 6077)\t0.044559108277066814\n",
      "  (0, 9088)\t0.10421970599761197\n",
      "  (0, 4795)\t0.046516007894030126\n",
      "  (0, 6243)\t0.029672519926287104\n",
      "  (0, 479)\t0.07024778428595047\n",
      "  (0, 7723)\t0.05698032112231155\n",
      "  (0, 8058)\t0.07282437570266447\n",
      "  (0, 3185)\t0.0545646457821574\n",
      "  (0, 1322)\t0.027158615033579015\n",
      "  (0, 6311)\t0.038792605506238725\n",
      "  (0, 6252)\t0.04390624220030708\n",
      "  :\t:\n",
      "  (0, 1849)\t0.11120395547584104\n",
      "  (0, 5682)\t0.13022015177611662\n",
      "  (0, 8740)\t0.09060154185540642\n",
      "  (0, 4763)\t0.10418771071340088\n",
      "  (0, 4130)\t0.08758846619205322\n",
      "  (0, 5524)\t0.13688179853427634\n",
      "  (0, 9525)\t0.12144163060626684\n",
      "  (0, 2013)\t0.10850288312124322\n",
      "  (0, 197)\t0.13183524014955947\n",
      "  (0, 8292)\t0.15385580724358489\n",
      "  (0, 8084)\t0.11592708500462175\n",
      "  (0, 8600)\t0.10764432112380538\n",
      "  (0, 6490)\t0.0986740446028555\n",
      "  (0, 5147)\t0.13495716624030707\n",
      "  (0, 383)\t0.12551695106114508\n",
      "  (0, 9372)\t0.1142394119659408\n",
      "  (0, 5673)\t0.11201809058107758\n",
      "  (0, 60)\t0.13901619871932666\n",
      "  (0, 7424)\t0.09669547174848009\n",
      "  (0, 7086)\t0.11389936653766693\n",
      "  (0, 5644)\t0.15175371994450348\n",
      "  (0, 1879)\t0.1402696383855904\n",
      "  (0, 4364)\t0.15539390571364792\n",
      "  (0, 7394)\t0.12989072051841727\n",
      "  (0, 1215)\t0.15621071966881497\n",
      "Sentiment: negative\n",
      "\n",
      "Review 5:\n",
      "<Compressed Sparse Row sparse matrix of dtype 'float64'\n",
      "\twith 147 stored elements and shape (1, 10000)>\n",
      "  Coords\tValues\n",
      "  (0, 6204)\t0.08536772989284255\n",
      "  (0, 8958)\t0.21801293826929588\n",
      "  (0, 6302)\t0.03333215361717208\n",
      "  (0, 8955)\t0.06697588679795151\n",
      "  (0, 336)\t0.07092292044494983\n",
      "  (0, 4939)\t0.08003371203737275\n",
      "  (0, 895)\t0.022258611792234678\n",
      "  (0, 8985)\t0.08016933519375356\n",
      "  (0, 603)\t0.06725116065716358\n",
      "  (0, 655)\t0.06014886724097385\n",
      "  (0, 9003)\t0.04537516300692644\n",
      "  (0, 4783)\t0.10576460009456648\n",
      "  (0, 3206)\t0.12312284622861124\n",
      "  (0, 9760)\t0.027880398230651134\n",
      "  (0, 9853)\t0.05630616867626675\n",
      "  (0, 5605)\t0.03166010492203206\n",
      "  (0, 3531)\t0.03364291639481728\n",
      "  (0, 8994)\t0.04148553001702499\n",
      "  (0, 178)\t0.026543181847517555\n",
      "  (0, 4804)\t0.07281267080777391\n",
      "  (0, 484)\t0.09800544886724763\n",
      "  (0, 4555)\t0.061166950113911746\n",
      "  (0, 3725)\t0.04991776504884773\n",
      "  (0, 6116)\t0.10736087559483429\n",
      "  (0, 8050)\t0.04274800953344548\n",
      "  :\t:\n",
      "  (0, 914)\t0.06618713066550971\n",
      "  (0, 2492)\t0.08197801664792341\n",
      "  (0, 6337)\t0.08956766374722218\n",
      "  (0, 6270)\t0.08890518303024794\n",
      "  (0, 9411)\t0.07912028965881965\n",
      "  (0, 789)\t0.07990857661210936\n",
      "  (0, 1789)\t0.08979591488685257\n",
      "  (0, 3499)\t0.06820002577999086\n",
      "  (0, 5311)\t0.09177572701756923\n",
      "  (0, 8460)\t0.07705845952831697\n",
      "  (0, 5964)\t0.09213586936323498\n",
      "  (0, 8741)\t0.08210766120463842\n",
      "  (0, 9387)\t0.1621270280392797\n",
      "  (0, 1735)\t0.10324774057294239\n",
      "  (0, 3829)\t0.07905085743590748\n",
      "  (0, 3530)\t0.0974302164816027\n",
      "  (0, 2018)\t0.09770304470235956\n",
      "  (0, 6816)\t0.10652342332442842\n",
      "  (0, 7491)\t0.08919561438746407\n",
      "  (0, 6799)\t0.09962495947704947\n",
      "  (0, 7126)\t0.10526039715667476\n",
      "  (0, 1848)\t0.09420240376020396\n",
      "  (0, 6112)\t0.3294128973907211\n",
      "  (0, 6102)\t0.09994651127780937\n",
      "  (0, 9771)\t0.09639089320721379\n",
      "Sentiment: negative\n",
      "\n"
     ]
    }
   ],
   "execution_count": 18
  },
  {
   "metadata": {
    "ExecuteTime": {
     "end_time": "2024-07-23T09:15:13.891883Z",
     "start_time": "2024-07-23T09:15:13.885577Z"
    }
   },
   "cell_type": "code",
   "source": [
    "# Review some sample text data (not the vectorized form)\n",
    "print(\"Sample of cleaned reviews from training data:\")\n",
    "for i in range(5):  # Displaying first 5 samples\n",
    "    print(f\"Review {i+1}:\")\n",
    "    print(df.iloc[y_train.index[i]]['cleaned_review'])  # Print the actual text review\n",
    "    print(\"Sentiment:\", y_train.iloc[i])\n",
    "    print()\n"
   ],
   "id": "3cdfe4da475e8d3b",
   "outputs": [
    {
     "name": "stdout",
     "output_type": "stream",
     "text": [
      "Sample of cleaned reviews from training data:\n",
      "Review 1:\n",
      "thats what i kept asking myself during the many fights screaming matches swearing and general mayhem that permeate the 84 minutes the comparisons also stand up when you think of the onedimensional characters who have so little depth that it is virtually impossible to care what happens to them they are just badly written cyphers for the director to hang his multicultural beliefs on a topic that has been done much better in other dramas both on tv and the cinema i must confess im not really one for spotting bad performances during a film but it must be said that nichola burley as the heroines slutty best friend and wasim zakir as the nasty bullying brother were absolutely terrible i dont know what acting school they graduated from but if i was them id apply for a full refund post haste only samina awan in the lead role manages to impress in a cast of socalled british talent that well probably never hear from again at least thats the hope next time hire a different scout another intriguing thought is the hideously fashionable soundtrack featuring the likes of snow patrol ian brown and keane now im a bit of a music fan and im familiar with most of these artists output but i didnt recognise any of the tracks during this movie apart from the omnipresent run bsides anyone we get many many musical montages which telegraph how were suppose to feel these are accompanied by such startlingly original images as couples kissing by a swollen lake and canoodling in doorways this is a problem\n",
      "Sentiment: negative\n",
      "\n",
      "Review 2:\n",
      "i did not watch the entire movie i could not watch the entire movie i stopped the dvd after watching for half an hour and i suggest anyone thinking of watching themselves it stop themselves before taking the disc out of the case i like mafia movies both tragic and comic but corky romano can only be described as a tragic attempt at a mafia comedy the problem is corky romano simply tries too hard to get the audience to laugh the plot seems to be an excuse for moving chris kattan corky from one scene to another corky himself is completely overplayed and lacks subtlety or credulity all his strange mannerisms come across as contrived chris kattan is clearly acting rather than taking a role it bounces you right out of the story each scene is utterly predictable the comedic event that will occur on the set is obvious as soon as each scene is introduced in comedies such as mr bean the disasters caused by the title character are funny because you can empathise with the characters motivations and initial event and the situation the character ends up in is not telegraphed corky however gives the feeling that he is deliberately screwing up in a desperate attempt to draw a laugh from the audience if chris had not played such an alien character who never really connects with the other characters in the movie and whose behaviour is entirely inexplicable except for trying to draw laughs and the comedy scenes werent so predictable and stereotyped all the jokes seemed far too familiar this mov\n",
      "Sentiment: negative\n",
      "\n",
      "Review 3:\n",
      "a touching love story reminiscent of in the mood for love drawing heavily on chinese poetry and how this is used by eastern people to communicate feelings to each other the story focuses on a schoolteacher who wants so much to be a model teacher as well as a good husband and father a senior student is very attracted to him as the story unfolds we see the emotions below the surface in his 20 year marriage and how he grapples with the moral dilemmas that face him a beautiful and moving story                                                                                                                                                                                                              \n",
      "Sentiment: positive\n",
      "\n",
      "Review 4:\n",
      "this latterday fulci schlocker is a totally abysmal concoction dealing with an incurable gambler brett halsey who decides bluebeardstyle to pay off his everrising debts by seducing some of the ugliest bitches you will ever lay your eyes on and who just happen to be wealthy widows the fulcipenned script also contrives to incorporate a few blackly comedic elements which only result in some unfunny business involving a corpse which wont stay put an opera singer victim who wont stop singing etc not to mention a doppelganger theme straight out of the student of prague although in this case the two personas communicate via prerecorded radio messages in the end i cant say im surprised that this film shows no sign of the sophistication of mario bavas hatchet for the honeymoon 1970 which it resembles in several ways and that it is content to merely pile up the disgustingly gory but nonetooconvincing effects of dismembered limbs and squashed or melting faces with which alas fulci had by then become completely associated\n",
      "Sentiment: negative\n",
      "\n",
      "Review 5:\n",
      "first of all i firmly believe that norwegian movies are continually getting better from the tedious emotional films of the 70s and 80s movies from this place actually started to contain a bit of humour imagine actual comedies were made movies were actually starting to get entertaining and funny as opposed to long dark depressing and boring during the 90s and 00s several really great movies were made by a new generation of filmmakers movie after movie were praised by critics and played loads of money it became the norm then came united minor spoilers its just simply not funny not once not ever but the thing is we think its funny because were used to norwegian movies to be funny especially with a cast like this with a few really funny comedians but they neither say nor do anything funny wheres the humor show me the humor is it the awkward clerk played by harald eia is it the overacting totally ridiculously unrealistic football coach is it the commentaries by arne scheie the movie is just not funny but thats not my main rant about united that namely is the predictability and it is here i fear that norwegian comedies have come to a standstill since i have seen this in many other movies as well all the time you just know its going to end well all characters are exactly as they are presented in the start of the movie and everybody gets exactly what they deserve in the end theres absolutely no room for surprises at all all in all i can say that i sat with a bad feeling after seeing \n",
      "Sentiment: negative\n",
      "\n"
     ]
    }
   ],
   "execution_count": 19
  },
  {
   "metadata": {
    "ExecuteTime": {
     "end_time": "2024-07-23T09:15:14.121240Z",
     "start_time": "2024-07-23T09:15:13.893899Z"
    }
   },
   "cell_type": "code",
   "source": [
    "# To understand what words are associated with high values in the vector\n",
    "feature_names = vectorizer.get_feature_names_out()  # Get feature names\n",
    "dense = X_train[0].todense()  # Take the first sample and convert to dense matrix\n",
    "denselist = dense.tolist()  # Convert to list\n",
    "df_tfidf = pd.DataFrame(denselist, columns=feature_names)  # Create DataFrame\n",
    "\n",
    "# Sort words by their TF-IDF score for the first review\n",
    "sorted_words = df_tfidf.iloc[0].sort_values(ascending=False)\n",
    "print(\"Top words in the first review:\")\n",
    "print(sorted_words.head(20))  # Show top 20 words\n"
   ],
   "id": "f7104b3cfbc32992",
   "outputs": [
    {
     "name": "stdout",
     "output_type": "stream",
     "text": [
      "Top words in the first review:\n",
      "the               0.227991\n",
      "during            0.184939\n",
      "im                0.147817\n",
      "many              0.132315\n",
      "graduated         0.128978\n",
      "recognise         0.128631\n",
      "heroines          0.127632\n",
      "output            0.125803\n",
      "apply             0.121305\n",
      "swearing          0.118508\n",
      "kissing           0.117967\n",
      "comparisons       0.117444\n",
      "matches           0.115203\n",
      "mayhem            0.113368\n",
      "beliefs           0.112843\n",
      "confess           0.112210\n",
      "onedimensional    0.110785\n",
      "impress           0.110560\n",
      "accompanied       0.109793\n",
      "must              0.109703\n",
      "Name: 0, dtype: float64\n"
     ]
    }
   ],
   "execution_count": 20
  },
  {
   "metadata": {},
   "cell_type": "markdown",
   "source": "Initializing Naive Bayes model",
   "id": "e52f186bae3214ed"
  },
  {
   "metadata": {
    "ExecuteTime": {
     "end_time": "2024-07-23T09:15:14.134848Z",
     "start_time": "2024-07-23T09:15:14.123264Z"
    }
   },
   "cell_type": "code",
   "source": [
    "from sklearn.naive_bayes import MultinomialNB\n",
    "from sklearn.metrics import accuracy_score\n",
    "\n",
    "model = MultinomialNB()"
   ],
   "id": "d160625d7e4d252e",
   "outputs": [],
   "execution_count": 21
  },
  {
   "metadata": {
    "ExecuteTime": {
     "end_time": "2024-07-23T09:15:14.305471Z",
     "start_time": "2024-07-23T09:15:14.139402Z"
    }
   },
   "cell_type": "code",
   "source": [
    "# Train the model\n",
    "model.fit(X_train, y_train)\n"
   ],
   "id": "847bd658b8a6cc3a",
   "outputs": [
    {
     "data": {
      "text/plain": [
       "MultinomialNB()"
      ],
      "text/html": [
       "<style>#sk-container-id-1 {\n",
       "  /* Definition of color scheme common for light and dark mode */\n",
       "  --sklearn-color-text: black;\n",
       "  --sklearn-color-line: gray;\n",
       "  /* Definition of color scheme for unfitted estimators */\n",
       "  --sklearn-color-unfitted-level-0: #fff5e6;\n",
       "  --sklearn-color-unfitted-level-1: #f6e4d2;\n",
       "  --sklearn-color-unfitted-level-2: #ffe0b3;\n",
       "  --sklearn-color-unfitted-level-3: chocolate;\n",
       "  /* Definition of color scheme for fitted estimators */\n",
       "  --sklearn-color-fitted-level-0: #f0f8ff;\n",
       "  --sklearn-color-fitted-level-1: #d4ebff;\n",
       "  --sklearn-color-fitted-level-2: #b3dbfd;\n",
       "  --sklearn-color-fitted-level-3: cornflowerblue;\n",
       "\n",
       "  /* Specific color for light theme */\n",
       "  --sklearn-color-text-on-default-background: var(--sg-text-color, var(--theme-code-foreground, var(--jp-content-font-color1, black)));\n",
       "  --sklearn-color-background: var(--sg-background-color, var(--theme-background, var(--jp-layout-color0, white)));\n",
       "  --sklearn-color-border-box: var(--sg-text-color, var(--theme-code-foreground, var(--jp-content-font-color1, black)));\n",
       "  --sklearn-color-icon: #696969;\n",
       "\n",
       "  @media (prefers-color-scheme: dark) {\n",
       "    /* Redefinition of color scheme for dark theme */\n",
       "    --sklearn-color-text-on-default-background: var(--sg-text-color, var(--theme-code-foreground, var(--jp-content-font-color1, white)));\n",
       "    --sklearn-color-background: var(--sg-background-color, var(--theme-background, var(--jp-layout-color0, #111)));\n",
       "    --sklearn-color-border-box: var(--sg-text-color, var(--theme-code-foreground, var(--jp-content-font-color1, white)));\n",
       "    --sklearn-color-icon: #878787;\n",
       "  }\n",
       "}\n",
       "\n",
       "#sk-container-id-1 {\n",
       "  color: var(--sklearn-color-text);\n",
       "}\n",
       "\n",
       "#sk-container-id-1 pre {\n",
       "  padding: 0;\n",
       "}\n",
       "\n",
       "#sk-container-id-1 input.sk-hidden--visually {\n",
       "  border: 0;\n",
       "  clip: rect(1px 1px 1px 1px);\n",
       "  clip: rect(1px, 1px, 1px, 1px);\n",
       "  height: 1px;\n",
       "  margin: -1px;\n",
       "  overflow: hidden;\n",
       "  padding: 0;\n",
       "  position: absolute;\n",
       "  width: 1px;\n",
       "}\n",
       "\n",
       "#sk-container-id-1 div.sk-dashed-wrapped {\n",
       "  border: 1px dashed var(--sklearn-color-line);\n",
       "  margin: 0 0.4em 0.5em 0.4em;\n",
       "  box-sizing: border-box;\n",
       "  padding-bottom: 0.4em;\n",
       "  background-color: var(--sklearn-color-background);\n",
       "}\n",
       "\n",
       "#sk-container-id-1 div.sk-container {\n",
       "  /* jupyter's `normalize.less` sets `[hidden] { display: none; }`\n",
       "     but bootstrap.min.css set `[hidden] { display: none !important; }`\n",
       "     so we also need the `!important` here to be able to override the\n",
       "     default hidden behavior on the sphinx rendered scikit-learn.org.\n",
       "     See: https://github.com/scikit-learn/scikit-learn/issues/21755 */\n",
       "  display: inline-block !important;\n",
       "  position: relative;\n",
       "}\n",
       "\n",
       "#sk-container-id-1 div.sk-text-repr-fallback {\n",
       "  display: none;\n",
       "}\n",
       "\n",
       "div.sk-parallel-item,\n",
       "div.sk-serial,\n",
       "div.sk-item {\n",
       "  /* draw centered vertical line to link estimators */\n",
       "  background-image: linear-gradient(var(--sklearn-color-text-on-default-background), var(--sklearn-color-text-on-default-background));\n",
       "  background-size: 2px 100%;\n",
       "  background-repeat: no-repeat;\n",
       "  background-position: center center;\n",
       "}\n",
       "\n",
       "/* Parallel-specific style estimator block */\n",
       "\n",
       "#sk-container-id-1 div.sk-parallel-item::after {\n",
       "  content: \"\";\n",
       "  width: 100%;\n",
       "  border-bottom: 2px solid var(--sklearn-color-text-on-default-background);\n",
       "  flex-grow: 1;\n",
       "}\n",
       "\n",
       "#sk-container-id-1 div.sk-parallel {\n",
       "  display: flex;\n",
       "  align-items: stretch;\n",
       "  justify-content: center;\n",
       "  background-color: var(--sklearn-color-background);\n",
       "  position: relative;\n",
       "}\n",
       "\n",
       "#sk-container-id-1 div.sk-parallel-item {\n",
       "  display: flex;\n",
       "  flex-direction: column;\n",
       "}\n",
       "\n",
       "#sk-container-id-1 div.sk-parallel-item:first-child::after {\n",
       "  align-self: flex-end;\n",
       "  width: 50%;\n",
       "}\n",
       "\n",
       "#sk-container-id-1 div.sk-parallel-item:last-child::after {\n",
       "  align-self: flex-start;\n",
       "  width: 50%;\n",
       "}\n",
       "\n",
       "#sk-container-id-1 div.sk-parallel-item:only-child::after {\n",
       "  width: 0;\n",
       "}\n",
       "\n",
       "/* Serial-specific style estimator block */\n",
       "\n",
       "#sk-container-id-1 div.sk-serial {\n",
       "  display: flex;\n",
       "  flex-direction: column;\n",
       "  align-items: center;\n",
       "  background-color: var(--sklearn-color-background);\n",
       "  padding-right: 1em;\n",
       "  padding-left: 1em;\n",
       "}\n",
       "\n",
       "\n",
       "/* Toggleable style: style used for estimator/Pipeline/ColumnTransformer box that is\n",
       "clickable and can be expanded/collapsed.\n",
       "- Pipeline and ColumnTransformer use this feature and define the default style\n",
       "- Estimators will overwrite some part of the style using the `sk-estimator` class\n",
       "*/\n",
       "\n",
       "/* Pipeline and ColumnTransformer style (default) */\n",
       "\n",
       "#sk-container-id-1 div.sk-toggleable {\n",
       "  /* Default theme specific background. It is overwritten whether we have a\n",
       "  specific estimator or a Pipeline/ColumnTransformer */\n",
       "  background-color: var(--sklearn-color-background);\n",
       "}\n",
       "\n",
       "/* Toggleable label */\n",
       "#sk-container-id-1 label.sk-toggleable__label {\n",
       "  cursor: pointer;\n",
       "  display: block;\n",
       "  width: 100%;\n",
       "  margin-bottom: 0;\n",
       "  padding: 0.5em;\n",
       "  box-sizing: border-box;\n",
       "  text-align: center;\n",
       "}\n",
       "\n",
       "#sk-container-id-1 label.sk-toggleable__label-arrow:before {\n",
       "  /* Arrow on the left of the label */\n",
       "  content: \"▸\";\n",
       "  float: left;\n",
       "  margin-right: 0.25em;\n",
       "  color: var(--sklearn-color-icon);\n",
       "}\n",
       "\n",
       "#sk-container-id-1 label.sk-toggleable__label-arrow:hover:before {\n",
       "  color: var(--sklearn-color-text);\n",
       "}\n",
       "\n",
       "/* Toggleable content - dropdown */\n",
       "\n",
       "#sk-container-id-1 div.sk-toggleable__content {\n",
       "  max-height: 0;\n",
       "  max-width: 0;\n",
       "  overflow: hidden;\n",
       "  text-align: left;\n",
       "  /* unfitted */\n",
       "  background-color: var(--sklearn-color-unfitted-level-0);\n",
       "}\n",
       "\n",
       "#sk-container-id-1 div.sk-toggleable__content.fitted {\n",
       "  /* fitted */\n",
       "  background-color: var(--sklearn-color-fitted-level-0);\n",
       "}\n",
       "\n",
       "#sk-container-id-1 div.sk-toggleable__content pre {\n",
       "  margin: 0.2em;\n",
       "  border-radius: 0.25em;\n",
       "  color: var(--sklearn-color-text);\n",
       "  /* unfitted */\n",
       "  background-color: var(--sklearn-color-unfitted-level-0);\n",
       "}\n",
       "\n",
       "#sk-container-id-1 div.sk-toggleable__content.fitted pre {\n",
       "  /* unfitted */\n",
       "  background-color: var(--sklearn-color-fitted-level-0);\n",
       "}\n",
       "\n",
       "#sk-container-id-1 input.sk-toggleable__control:checked~div.sk-toggleable__content {\n",
       "  /* Expand drop-down */\n",
       "  max-height: 200px;\n",
       "  max-width: 100%;\n",
       "  overflow: auto;\n",
       "}\n",
       "\n",
       "#sk-container-id-1 input.sk-toggleable__control:checked~label.sk-toggleable__label-arrow:before {\n",
       "  content: \"▾\";\n",
       "}\n",
       "\n",
       "/* Pipeline/ColumnTransformer-specific style */\n",
       "\n",
       "#sk-container-id-1 div.sk-label input.sk-toggleable__control:checked~label.sk-toggleable__label {\n",
       "  color: var(--sklearn-color-text);\n",
       "  background-color: var(--sklearn-color-unfitted-level-2);\n",
       "}\n",
       "\n",
       "#sk-container-id-1 div.sk-label.fitted input.sk-toggleable__control:checked~label.sk-toggleable__label {\n",
       "  background-color: var(--sklearn-color-fitted-level-2);\n",
       "}\n",
       "\n",
       "/* Estimator-specific style */\n",
       "\n",
       "/* Colorize estimator box */\n",
       "#sk-container-id-1 div.sk-estimator input.sk-toggleable__control:checked~label.sk-toggleable__label {\n",
       "  /* unfitted */\n",
       "  background-color: var(--sklearn-color-unfitted-level-2);\n",
       "}\n",
       "\n",
       "#sk-container-id-1 div.sk-estimator.fitted input.sk-toggleable__control:checked~label.sk-toggleable__label {\n",
       "  /* fitted */\n",
       "  background-color: var(--sklearn-color-fitted-level-2);\n",
       "}\n",
       "\n",
       "#sk-container-id-1 div.sk-label label.sk-toggleable__label,\n",
       "#sk-container-id-1 div.sk-label label {\n",
       "  /* The background is the default theme color */\n",
       "  color: var(--sklearn-color-text-on-default-background);\n",
       "}\n",
       "\n",
       "/* On hover, darken the color of the background */\n",
       "#sk-container-id-1 div.sk-label:hover label.sk-toggleable__label {\n",
       "  color: var(--sklearn-color-text);\n",
       "  background-color: var(--sklearn-color-unfitted-level-2);\n",
       "}\n",
       "\n",
       "/* Label box, darken color on hover, fitted */\n",
       "#sk-container-id-1 div.sk-label.fitted:hover label.sk-toggleable__label.fitted {\n",
       "  color: var(--sklearn-color-text);\n",
       "  background-color: var(--sklearn-color-fitted-level-2);\n",
       "}\n",
       "\n",
       "/* Estimator label */\n",
       "\n",
       "#sk-container-id-1 div.sk-label label {\n",
       "  font-family: monospace;\n",
       "  font-weight: bold;\n",
       "  display: inline-block;\n",
       "  line-height: 1.2em;\n",
       "}\n",
       "\n",
       "#sk-container-id-1 div.sk-label-container {\n",
       "  text-align: center;\n",
       "}\n",
       "\n",
       "/* Estimator-specific */\n",
       "#sk-container-id-1 div.sk-estimator {\n",
       "  font-family: monospace;\n",
       "  border: 1px dotted var(--sklearn-color-border-box);\n",
       "  border-radius: 0.25em;\n",
       "  box-sizing: border-box;\n",
       "  margin-bottom: 0.5em;\n",
       "  /* unfitted */\n",
       "  background-color: var(--sklearn-color-unfitted-level-0);\n",
       "}\n",
       "\n",
       "#sk-container-id-1 div.sk-estimator.fitted {\n",
       "  /* fitted */\n",
       "  background-color: var(--sklearn-color-fitted-level-0);\n",
       "}\n",
       "\n",
       "/* on hover */\n",
       "#sk-container-id-1 div.sk-estimator:hover {\n",
       "  /* unfitted */\n",
       "  background-color: var(--sklearn-color-unfitted-level-2);\n",
       "}\n",
       "\n",
       "#sk-container-id-1 div.sk-estimator.fitted:hover {\n",
       "  /* fitted */\n",
       "  background-color: var(--sklearn-color-fitted-level-2);\n",
       "}\n",
       "\n",
       "/* Specification for estimator info (e.g. \"i\" and \"?\") */\n",
       "\n",
       "/* Common style for \"i\" and \"?\" */\n",
       "\n",
       ".sk-estimator-doc-link,\n",
       "a:link.sk-estimator-doc-link,\n",
       "a:visited.sk-estimator-doc-link {\n",
       "  float: right;\n",
       "  font-size: smaller;\n",
       "  line-height: 1em;\n",
       "  font-family: monospace;\n",
       "  background-color: var(--sklearn-color-background);\n",
       "  border-radius: 1em;\n",
       "  height: 1em;\n",
       "  width: 1em;\n",
       "  text-decoration: none !important;\n",
       "  margin-left: 1ex;\n",
       "  /* unfitted */\n",
       "  border: var(--sklearn-color-unfitted-level-1) 1pt solid;\n",
       "  color: var(--sklearn-color-unfitted-level-1);\n",
       "}\n",
       "\n",
       ".sk-estimator-doc-link.fitted,\n",
       "a:link.sk-estimator-doc-link.fitted,\n",
       "a:visited.sk-estimator-doc-link.fitted {\n",
       "  /* fitted */\n",
       "  border: var(--sklearn-color-fitted-level-1) 1pt solid;\n",
       "  color: var(--sklearn-color-fitted-level-1);\n",
       "}\n",
       "\n",
       "/* On hover */\n",
       "div.sk-estimator:hover .sk-estimator-doc-link:hover,\n",
       ".sk-estimator-doc-link:hover,\n",
       "div.sk-label-container:hover .sk-estimator-doc-link:hover,\n",
       ".sk-estimator-doc-link:hover {\n",
       "  /* unfitted */\n",
       "  background-color: var(--sklearn-color-unfitted-level-3);\n",
       "  color: var(--sklearn-color-background);\n",
       "  text-decoration: none;\n",
       "}\n",
       "\n",
       "div.sk-estimator.fitted:hover .sk-estimator-doc-link.fitted:hover,\n",
       ".sk-estimator-doc-link.fitted:hover,\n",
       "div.sk-label-container:hover .sk-estimator-doc-link.fitted:hover,\n",
       ".sk-estimator-doc-link.fitted:hover {\n",
       "  /* fitted */\n",
       "  background-color: var(--sklearn-color-fitted-level-3);\n",
       "  color: var(--sklearn-color-background);\n",
       "  text-decoration: none;\n",
       "}\n",
       "\n",
       "/* Span, style for the box shown on hovering the info icon */\n",
       ".sk-estimator-doc-link span {\n",
       "  display: none;\n",
       "  z-index: 9999;\n",
       "  position: relative;\n",
       "  font-weight: normal;\n",
       "  right: .2ex;\n",
       "  padding: .5ex;\n",
       "  margin: .5ex;\n",
       "  width: min-content;\n",
       "  min-width: 20ex;\n",
       "  max-width: 50ex;\n",
       "  color: var(--sklearn-color-text);\n",
       "  box-shadow: 2pt 2pt 4pt #999;\n",
       "  /* unfitted */\n",
       "  background: var(--sklearn-color-unfitted-level-0);\n",
       "  border: .5pt solid var(--sklearn-color-unfitted-level-3);\n",
       "}\n",
       "\n",
       ".sk-estimator-doc-link.fitted span {\n",
       "  /* fitted */\n",
       "  background: var(--sklearn-color-fitted-level-0);\n",
       "  border: var(--sklearn-color-fitted-level-3);\n",
       "}\n",
       "\n",
       ".sk-estimator-doc-link:hover span {\n",
       "  display: block;\n",
       "}\n",
       "\n",
       "/* \"?\"-specific style due to the `<a>` HTML tag */\n",
       "\n",
       "#sk-container-id-1 a.estimator_doc_link {\n",
       "  float: right;\n",
       "  font-size: 1rem;\n",
       "  line-height: 1em;\n",
       "  font-family: monospace;\n",
       "  background-color: var(--sklearn-color-background);\n",
       "  border-radius: 1rem;\n",
       "  height: 1rem;\n",
       "  width: 1rem;\n",
       "  text-decoration: none;\n",
       "  /* unfitted */\n",
       "  color: var(--sklearn-color-unfitted-level-1);\n",
       "  border: var(--sklearn-color-unfitted-level-1) 1pt solid;\n",
       "}\n",
       "\n",
       "#sk-container-id-1 a.estimator_doc_link.fitted {\n",
       "  /* fitted */\n",
       "  border: var(--sklearn-color-fitted-level-1) 1pt solid;\n",
       "  color: var(--sklearn-color-fitted-level-1);\n",
       "}\n",
       "\n",
       "/* On hover */\n",
       "#sk-container-id-1 a.estimator_doc_link:hover {\n",
       "  /* unfitted */\n",
       "  background-color: var(--sklearn-color-unfitted-level-3);\n",
       "  color: var(--sklearn-color-background);\n",
       "  text-decoration: none;\n",
       "}\n",
       "\n",
       "#sk-container-id-1 a.estimator_doc_link.fitted:hover {\n",
       "  /* fitted */\n",
       "  background-color: var(--sklearn-color-fitted-level-3);\n",
       "}\n",
       "</style><div id=\"sk-container-id-1\" class=\"sk-top-container\"><div class=\"sk-text-repr-fallback\"><pre>MultinomialNB()</pre><b>In a Jupyter environment, please rerun this cell to show the HTML representation or trust the notebook. <br />On GitHub, the HTML representation is unable to render, please try loading this page with nbviewer.org.</b></div><div class=\"sk-container\" hidden><div class=\"sk-item\"><div class=\"sk-estimator fitted sk-toggleable\"><input class=\"sk-toggleable__control sk-hidden--visually\" id=\"sk-estimator-id-1\" type=\"checkbox\" checked><label for=\"sk-estimator-id-1\" class=\"sk-toggleable__label fitted sk-toggleable__label-arrow fitted\">&nbsp;&nbsp;MultinomialNB<a class=\"sk-estimator-doc-link fitted\" rel=\"noreferrer\" target=\"_blank\" href=\"https://scikit-learn.org/1.5/modules/generated/sklearn.naive_bayes.MultinomialNB.html\">?<span>Documentation for MultinomialNB</span></a><span class=\"sk-estimator-doc-link fitted\">i<span>Fitted</span></span></label><div class=\"sk-toggleable__content fitted\"><pre>MultinomialNB()</pre></div> </div></div></div></div>"
      ]
     },
     "execution_count": 22,
     "metadata": {},
     "output_type": "execute_result"
    }
   ],
   "execution_count": 22
  },
  {
   "metadata": {
    "ExecuteTime": {
     "end_time": "2024-07-23T09:15:14.317605Z",
     "start_time": "2024-07-23T09:15:14.307485Z"
    }
   },
   "cell_type": "code",
   "source": "y_pred = model.predict(X_test)",
   "id": "ca13e9b0cf199cce",
   "outputs": [],
   "execution_count": 23
  },
  {
   "metadata": {},
   "cell_type": "markdown",
   "source": [
    "from sklearn.model_selection import GridSearchCV\n",
    "\n",
    "param_grid = {'alpha': [0.1, 0.5, 1, 2, 5]}\n",
    "grid_search = GridSearchCV(estimator=MultinomialNB(), param_grid=param_grid, cv=5, scoring='accuracy')\n",
    "grid_search.fit(X_train, y_train)\n"
   ],
   "id": "f26c4fe4c05cd8d6"
  },
  {
   "metadata": {},
   "cell_type": "markdown",
   "source": [
    "best_model = grid_search.best_estimator_\n",
    "y_pred2 = best_model.predict(X_test)\n"
   ],
   "id": "e22a634661803f75"
  },
  {
   "metadata": {},
   "cell_type": "markdown",
   "source": [
    "from sklearn.metrics import accuracy_score, classification_report, confusion_matrix\n",
    "\n",
    "print(\"Accuracy:\", accuracy_score(y_test, y_pred2))\n",
    "print(classification_report(y_test, y_pred2))\n",
    "print(confusion_matrix(y_test, y_pred2))\n"
   ],
   "id": "e14f5f1ee2f248ca"
  },
  {
   "metadata": {},
   "cell_type": "markdown",
   "source": "Grid system has been used and only got a 0.8507 so sticking with current model",
   "id": "7d09d9c002f36ca4"
  },
  {
   "metadata": {
    "ExecuteTime": {
     "end_time": "2024-07-23T09:15:14.343279Z",
     "start_time": "2024-07-23T09:15:14.319620Z"
    }
   },
   "cell_type": "code",
   "source": [
    "accuracy = accuracy_score(y_test, y_pred)\n",
    "print(f\"Accuracy: {accuracy}\")"
   ],
   "id": "c7cad2f303502cd7",
   "outputs": [
    {
     "name": "stdout",
     "output_type": "stream",
     "text": [
      "Accuracy: 0.8519\n"
     ]
    }
   ],
   "execution_count": 24
  },
  {
   "metadata": {
    "ExecuteTime": {
     "end_time": "2024-07-23T09:15:14.667824Z",
     "start_time": "2024-07-23T09:15:14.345293Z"
    }
   },
   "cell_type": "code",
   "source": [
    "from sklearn.metrics import classification_report\n",
    "\n",
    "# Generate and print the classification report\n",
    "report = classification_report(y_test, y_pred)\n",
    "print(\"Classification Report:\\n\", report)\n"
   ],
   "id": "463d472804579a41",
   "outputs": [
    {
     "name": "stdout",
     "output_type": "stream",
     "text": [
      "Classification Report:\n",
      "               precision    recall  f1-score   support\n",
      "\n",
      "    negative       0.85      0.85      0.85      4961\n",
      "    positive       0.85      0.85      0.85      5039\n",
      "\n",
      "    accuracy                           0.85     10000\n",
      "   macro avg       0.85      0.85      0.85     10000\n",
      "weighted avg       0.85      0.85      0.85     10000\n",
      "\n"
     ]
    }
   ],
   "execution_count": 25
  },
  {
   "metadata": {
    "ExecuteTime": {
     "end_time": "2024-07-23T09:15:14.921144Z",
     "start_time": "2024-07-23T09:15:14.668838Z"
    }
   },
   "cell_type": "code",
   "source": [
    "from sklearn.metrics import confusion_matrix\n",
    "import seaborn as sns\n",
    "import matplotlib.pyplot as plt\n",
    "\n",
    "# Generate confusion matrix\n",
    "cm = confusion_matrix(y_test, y_pred)\n",
    "\n",
    "# Plot confusion matrix\n",
    "plt.figure(figsize=(10, 7))\n",
    "sns.heatmap(cm, annot=True, fmt='d', cmap='Blues', \n",
    "            xticklabels=['negative', 'positive'], \n",
    "            yticklabels=['negative', 'positive'])\n",
    "plt.xlabel('Predicted Label')\n",
    "plt.ylabel('True Label')\n",
    "plt.title('Confusion Matrix')\n",
    "plt.show()\n"
   ],
   "id": "4740ac34805b15e4",
   "outputs": [
    {
     "data": {
      "text/plain": [
       "<Figure size 1000x700 with 2 Axes>"
      ],
      "image/png": "[encoded data removed]"
     },
     "metadata": {},
     "output_type": "display_data"
    }
   ],
   "execution_count": 26
  },
  {
   "metadata": {
    "ExecuteTime": {
     "end_time": "2024-07-23T09:33:33.267610Z",
     "start_time": "2024-07-23T09:33:33.148429Z"
    }
   },
   "cell_type": "code",
   "source": [
    "import joblib\n",
    "\n",
    "# Save the model and the vectorizer to files\n",
    "joblib.dump(model, 'sentiment_analysis_model.pkl')\n",
    "joblib.dump(vectorizer, 'vectorizer.pkl')\n",
    "print(\"Model and vectorizer saved successfully.\")\n"
   ],
   "id": "ad3d01f5729d6fe2",
   "outputs": [
    {
     "name": "stdout",
     "output_type": "stream",
     "text": [
      "Model and vectorizer saved successfully.\n"
     ]
    }
   ],
   "execution_count": 27
  },
  {
   "metadata": {},
   "cell_type": "code",
   "outputs": [],
   "execution_count": null,
   "source": "",
   "id": "9c2826aca351863f"
  }
 ],
 "metadata": {
  "kernelspec": {
   "display_name": "Python 3",
   "language": "python",
   "name": "python3"
  },
  "language_info": {
   "codemirror_mode": {
    "name": "ipython",
    "version": 2
   },
   "file_extension": ".py",
   "mimetype": "text/x-python",
   "name": "python",
   "nbconvert_exporter": "python",
   "pygments_lexer": "ipython2",
   "version": "2.7.6"
  }
 },
 "nbformat": 4,
 "nbformat_minor": 5
}
